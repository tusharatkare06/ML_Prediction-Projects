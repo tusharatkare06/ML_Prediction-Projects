{
 "cells": [
  {
   "cell_type": "code",
   "execution_count": 1,
   "metadata": {},
   "outputs": [],
   "source": [
    "import numpy as np\n",
    "import pandas as pd\n",
    "#load the data from link \n",
    "X_train = pd.read_csv(\"train.csv\")\n",
    "X_test = pd.read_csv(\"test.csv\")"
   ]
  },
  {
   "cell_type": "code",
   "execution_count": 2,
   "metadata": {},
   "outputs": [
    {
     "data": {
      "text/plain": [
       "(411, 10)"
      ]
     },
     "execution_count": 2,
     "metadata": {},
     "output_type": "execute_result"
    }
   ],
   "source": [
    "X_test.shape"
   ]
  },
  {
   "cell_type": "code",
   "execution_count": 3,
   "metadata": {},
   "outputs": [
    {
     "data": {
      "text/html": [
       "<div>\n",
       "<style scoped>\n",
       "    .dataframe tbody tr th:only-of-type {\n",
       "        vertical-align: middle;\n",
       "    }\n",
       "\n",
       "    .dataframe tbody tr th {\n",
       "        vertical-align: top;\n",
       "    }\n",
       "\n",
       "    .dataframe thead th {\n",
       "        text-align: right;\n",
       "    }\n",
       "</style>\n",
       "<table border=\"1\" class=\"dataframe\">\n",
       "  <thead>\n",
       "    <tr style=\"text-align: right;\">\n",
       "      <th></th>\n",
       "      <th>model</th>\n",
       "      <th>year</th>\n",
       "      <th>motor_type</th>\n",
       "      <th>running</th>\n",
       "      <th>wheel</th>\n",
       "      <th>color</th>\n",
       "      <th>type</th>\n",
       "      <th>status</th>\n",
       "      <th>motor_volume</th>\n",
       "      <th>price</th>\n",
       "    </tr>\n",
       "  </thead>\n",
       "  <tbody>\n",
       "    <tr>\n",
       "      <th>0</th>\n",
       "      <td>toyota</td>\n",
       "      <td>2022</td>\n",
       "      <td>petrol</td>\n",
       "      <td>3000  km</td>\n",
       "      <td>left</td>\n",
       "      <td>skyblue</td>\n",
       "      <td>sedan</td>\n",
       "      <td>excellent</td>\n",
       "      <td>2.0</td>\n",
       "      <td>24500</td>\n",
       "    </tr>\n",
       "    <tr>\n",
       "      <th>1</th>\n",
       "      <td>mercedes-benz</td>\n",
       "      <td>2014</td>\n",
       "      <td>petrol</td>\n",
       "      <td>132000  km</td>\n",
       "      <td>left</td>\n",
       "      <td>black</td>\n",
       "      <td>sedan</td>\n",
       "      <td>excellent</td>\n",
       "      <td>2.0</td>\n",
       "      <td>25500</td>\n",
       "    </tr>\n",
       "    <tr>\n",
       "      <th>2</th>\n",
       "      <td>kia</td>\n",
       "      <td>2018</td>\n",
       "      <td>petrol</td>\n",
       "      <td>95000  miles</td>\n",
       "      <td>left</td>\n",
       "      <td>other</td>\n",
       "      <td>sedan</td>\n",
       "      <td>excellent</td>\n",
       "      <td>2.0</td>\n",
       "      <td>11700</td>\n",
       "    </tr>\n",
       "    <tr>\n",
       "      <th>3</th>\n",
       "      <td>mercedes-benz</td>\n",
       "      <td>2002</td>\n",
       "      <td>petrol</td>\n",
       "      <td>137000  miles</td>\n",
       "      <td>left</td>\n",
       "      <td>golden</td>\n",
       "      <td>sedan</td>\n",
       "      <td>excellent</td>\n",
       "      <td>3.2</td>\n",
       "      <td>12000</td>\n",
       "    </tr>\n",
       "    <tr>\n",
       "      <th>4</th>\n",
       "      <td>mercedes-benz</td>\n",
       "      <td>2017</td>\n",
       "      <td>petrol</td>\n",
       "      <td>130000  km</td>\n",
       "      <td>left</td>\n",
       "      <td>black</td>\n",
       "      <td>sedan</td>\n",
       "      <td>good</td>\n",
       "      <td>2.0</td>\n",
       "      <td>26000</td>\n",
       "    </tr>\n",
       "  </tbody>\n",
       "</table>\n",
       "</div>"
      ],
      "text/plain": [
       "           model  year motor_type        running wheel    color   type  \\\n",
       "0         toyota  2022     petrol       3000  km  left  skyblue  sedan   \n",
       "1  mercedes-benz  2014     petrol     132000  km  left    black  sedan   \n",
       "2            kia  2018     petrol   95000  miles  left    other  sedan   \n",
       "3  mercedes-benz  2002     petrol  137000  miles  left   golden  sedan   \n",
       "4  mercedes-benz  2017     petrol     130000  km  left    black  sedan   \n",
       "\n",
       "      status  motor_volume  price  \n",
       "0  excellent           2.0  24500  \n",
       "1  excellent           2.0  25500  \n",
       "2  excellent           2.0  11700  \n",
       "3  excellent           3.2  12000  \n",
       "4       good           2.0  26000  "
      ]
     },
     "execution_count": 3,
     "metadata": {},
     "output_type": "execute_result"
    }
   ],
   "source": [
    "#lets check the first 5 rows of data\n",
    "X_train.head()"
   ]
  },
  {
   "cell_type": "code",
   "execution_count": 4,
   "metadata": {},
   "outputs": [
    {
     "name": "stdout",
     "output_type": "stream",
     "text": [
      "<class 'pandas.core.frame.DataFrame'>\n",
      "RangeIndex: 1642 entries, 0 to 1641\n",
      "Data columns (total 10 columns):\n",
      " #   Column        Non-Null Count  Dtype  \n",
      "---  ------        --------------  -----  \n",
      " 0   model         1642 non-null   object \n",
      " 1   year          1642 non-null   int64  \n",
      " 2   motor_type    1642 non-null   object \n",
      " 3   running       1642 non-null   object \n",
      " 4   wheel         1642 non-null   object \n",
      " 5   color         1642 non-null   object \n",
      " 6   type          1642 non-null   object \n",
      " 7   status        1642 non-null   object \n",
      " 8   motor_volume  1642 non-null   float64\n",
      " 9   price         1642 non-null   int64  \n",
      "dtypes: float64(1), int64(2), object(7)\n",
      "memory usage: 128.4+ KB\n"
     ]
    }
   ],
   "source": [
    "#check for the data type and missing values\n",
    "X_train.info()"
   ]
  },
  {
   "cell_type": "code",
   "execution_count": 5,
   "metadata": {},
   "outputs": [
    {
     "data": {
      "text/plain": [
       "9"
      ]
     },
     "execution_count": 5,
     "metadata": {},
     "output_type": "execute_result"
    }
   ],
   "source": [
    "#check for duplicate entries\n",
    "X_train.duplicated().sum()"
   ]
  },
  {
   "cell_type": "code",
   "execution_count": 6,
   "metadata": {},
   "outputs": [],
   "source": [
    "# lests drop the duplicate data \n",
    "X_train.drop_duplicates(inplace=True) #inplace true is to drop duplicate data permenently"
   ]
  },
  {
   "cell_type": "code",
   "execution_count": 7,
   "metadata": {},
   "outputs": [
    {
     "data": {
      "text/plain": [
       "0"
      ]
     },
     "execution_count": 7,
     "metadata": {},
     "output_type": "execute_result"
    }
   ],
   "source": [
    "#check the result again\n",
    "X_train.duplicated().sum()"
   ]
  },
  {
   "cell_type": "code",
   "execution_count": 8,
   "metadata": {},
   "outputs": [
    {
     "name": "stdout",
     "output_type": "stream",
     "text": [
      "model\n",
      "mercedes-benz    401\n",
      "nissan           349\n",
      "hyundai          347\n",
      "kia              283\n",
      "toyota           253\n",
      "Name: count, dtype: int64\n",
      "*****************************\n",
      "motor_type\n",
      "petrol            1412\n",
      "gas                165\n",
      "petrol and gas      53\n",
      "diesel               2\n",
      "hybrid               1\n",
      "Name: count, dtype: int64\n",
      "*****************************\n",
      "running\n",
      "300000  km      19\n",
      "70000  miles    18\n",
      "120000  km      16\n",
      "65000  miles    15\n",
      "60000  miles    15\n",
      "                ..\n",
      "201000  km       1\n",
      "8800  km         1\n",
      "101  miles       1\n",
      "96122  km        1\n",
      "68900  miles     1\n",
      "Name: count, Length: 643, dtype: int64\n",
      "*****************************\n",
      "wheel\n",
      "left    1633\n",
      "Name: count, dtype: int64\n",
      "*****************************\n",
      "color\n",
      "black      537\n",
      "white      406\n",
      "silver     220\n",
      "gray       188\n",
      "blue       141\n",
      "red         47\n",
      "other       30\n",
      "cherry      20\n",
      "green       10\n",
      "brown       10\n",
      "golden       6\n",
      "orange       5\n",
      "beige        5\n",
      "clove        3\n",
      "purple       2\n",
      "skyblue      2\n",
      "pink         1\n",
      "Name: count, dtype: int64\n",
      "*****************************\n",
      "type\n",
      "sedan                1268\n",
      "suv                   300\n",
      "Universal              37\n",
      "hatchback              15\n",
      "Coupe                  11\n",
      "pickup                  1\n",
      "minivan / minibus       1\n",
      "Name: count, dtype: int64\n",
      "*****************************\n",
      "status\n",
      "excellent    1192\n",
      "good          333\n",
      "normal         58\n",
      "crashed        29\n",
      "new            21\n",
      "Name: count, dtype: int64\n",
      "*****************************\n"
     ]
    }
   ],
   "source": [
    "# lets check for the bad data. by checking the value count\n",
    "for column in X_train.columns:\n",
    "    if X_train[column].dtype == 'object':\n",
    "        print(X_train[column].value_counts())\n",
    "        print(\"*****************************\")"
   ]
  },
  {
   "cell_type": "code",
   "execution_count": 9,
   "metadata": {},
   "outputs": [],
   "source": [
    "# as we see in wheel column only one entry i.e left. so this feature should be neet to drop for model prediction\n",
    "X_train.drop('wheel', axis=1, inplace=True)"
   ]
  },
  {
   "cell_type": "code",
   "execution_count": 10,
   "metadata": {},
   "outputs": [
    {
     "data": {
      "text/html": [
       "<div>\n",
       "<style scoped>\n",
       "    .dataframe tbody tr th:only-of-type {\n",
       "        vertical-align: middle;\n",
       "    }\n",
       "\n",
       "    .dataframe tbody tr th {\n",
       "        vertical-align: top;\n",
       "    }\n",
       "\n",
       "    .dataframe thead th {\n",
       "        text-align: right;\n",
       "    }\n",
       "</style>\n",
       "<table border=\"1\" class=\"dataframe\">\n",
       "  <thead>\n",
       "    <tr style=\"text-align: right;\">\n",
       "      <th></th>\n",
       "      <th>model</th>\n",
       "      <th>year</th>\n",
       "      <th>motor_type</th>\n",
       "      <th>running</th>\n",
       "      <th>color</th>\n",
       "      <th>type</th>\n",
       "      <th>status</th>\n",
       "      <th>motor_volume</th>\n",
       "      <th>price</th>\n",
       "    </tr>\n",
       "  </thead>\n",
       "  <tbody>\n",
       "    <tr>\n",
       "      <th>0</th>\n",
       "      <td>toyota</td>\n",
       "      <td>2022</td>\n",
       "      <td>petrol</td>\n",
       "      <td>3000  km</td>\n",
       "      <td>skyblue</td>\n",
       "      <td>sedan</td>\n",
       "      <td>excellent</td>\n",
       "      <td>2.0</td>\n",
       "      <td>24500</td>\n",
       "    </tr>\n",
       "    <tr>\n",
       "      <th>1</th>\n",
       "      <td>mercedes-benz</td>\n",
       "      <td>2014</td>\n",
       "      <td>petrol</td>\n",
       "      <td>132000  km</td>\n",
       "      <td>black</td>\n",
       "      <td>sedan</td>\n",
       "      <td>excellent</td>\n",
       "      <td>2.0</td>\n",
       "      <td>25500</td>\n",
       "    </tr>\n",
       "    <tr>\n",
       "      <th>2</th>\n",
       "      <td>kia</td>\n",
       "      <td>2018</td>\n",
       "      <td>petrol</td>\n",
       "      <td>95000  miles</td>\n",
       "      <td>other</td>\n",
       "      <td>sedan</td>\n",
       "      <td>excellent</td>\n",
       "      <td>2.0</td>\n",
       "      <td>11700</td>\n",
       "    </tr>\n",
       "    <tr>\n",
       "      <th>3</th>\n",
       "      <td>mercedes-benz</td>\n",
       "      <td>2002</td>\n",
       "      <td>petrol</td>\n",
       "      <td>137000  miles</td>\n",
       "      <td>golden</td>\n",
       "      <td>sedan</td>\n",
       "      <td>excellent</td>\n",
       "      <td>3.2</td>\n",
       "      <td>12000</td>\n",
       "    </tr>\n",
       "    <tr>\n",
       "      <th>4</th>\n",
       "      <td>mercedes-benz</td>\n",
       "      <td>2017</td>\n",
       "      <td>petrol</td>\n",
       "      <td>130000  km</td>\n",
       "      <td>black</td>\n",
       "      <td>sedan</td>\n",
       "      <td>good</td>\n",
       "      <td>2.0</td>\n",
       "      <td>26000</td>\n",
       "    </tr>\n",
       "  </tbody>\n",
       "</table>\n",
       "</div>"
      ],
      "text/plain": [
       "           model  year motor_type        running    color   type     status  \\\n",
       "0         toyota  2022     petrol       3000  km  skyblue  sedan  excellent   \n",
       "1  mercedes-benz  2014     petrol     132000  km    black  sedan  excellent   \n",
       "2            kia  2018     petrol   95000  miles    other  sedan  excellent   \n",
       "3  mercedes-benz  2002     petrol  137000  miles   golden  sedan  excellent   \n",
       "4  mercedes-benz  2017     petrol     130000  km    black  sedan       good   \n",
       "\n",
       "   motor_volume  price  \n",
       "0           2.0  24500  \n",
       "1           2.0  25500  \n",
       "2           2.0  11700  \n",
       "3           3.2  12000  \n",
       "4           2.0  26000  "
      ]
     },
     "execution_count": 10,
     "metadata": {},
     "output_type": "execute_result"
    }
   ],
   "source": [
    "X_train.head()"
   ]
  },
  {
   "cell_type": "code",
   "execution_count": 11,
   "metadata": {},
   "outputs": [],
   "source": [
    "# feature running contain km and miles also.. so lets convert miles into km for stadard format\n",
    "#by multiplying the number of miles by the conversion factor, which is 1.60934 (since 1 mile is approximately equal to 1.60934 kilometers). \n",
    "#create a function for that\n",
    "\n",
    "conversion_factor = 1.60934\n"
   ]
  },
  {
   "cell_type": "code",
   "execution_count": 12,
   "metadata": {},
   "outputs": [
    {
     "data": {
      "text/plain": [
       "4828.0199999999995"
      ]
     },
     "execution_count": 12,
     "metadata": {},
     "output_type": "execute_result"
    }
   ],
   "source": [
    "float(X_train['running'].iloc[0].split()[0])*1.60934"
   ]
  },
  {
   "cell_type": "code",
   "execution_count": 13,
   "metadata": {},
   "outputs": [
    {
     "data": {
      "text/plain": [
       "False"
      ]
     },
     "execution_count": 13,
     "metadata": {},
     "output_type": "execute_result"
    }
   ],
   "source": [
    "\"miles\" in X_train['running'].iloc[0].lower()"
   ]
  },
  {
   "cell_type": "code",
   "execution_count": 14,
   "metadata": {},
   "outputs": [
    {
     "data": {
      "text/plain": [
       "True"
      ]
     },
     "execution_count": 14,
     "metadata": {},
     "output_type": "execute_result"
    }
   ],
   "source": [
    "\"miles\" in X_train['running'].iloc[2].lower()"
   ]
  },
  {
   "cell_type": "code",
   "execution_count": 15,
   "metadata": {},
   "outputs": [],
   "source": [
    "def convert_miles_to_km(running):\n",
    "    if 'miles' in running.lower():\n",
    "        \n",
    "        miles = float(running.split()[0])\n",
    "        km = miles * conversion_factor\n",
    "        return km\n",
    "    else:\n",
    "        return float(running.split()[0])\n"
   ]
  },
  {
   "cell_type": "code",
   "execution_count": 16,
   "metadata": {},
   "outputs": [],
   "source": [
    "X_train['running'] = X_train['running'].apply(convert_miles_to_km)"
   ]
  },
  {
   "cell_type": "code",
   "execution_count": 17,
   "metadata": {},
   "outputs": [
    {
     "data": {
      "text/html": [
       "<div>\n",
       "<style scoped>\n",
       "    .dataframe tbody tr th:only-of-type {\n",
       "        vertical-align: middle;\n",
       "    }\n",
       "\n",
       "    .dataframe tbody tr th {\n",
       "        vertical-align: top;\n",
       "    }\n",
       "\n",
       "    .dataframe thead th {\n",
       "        text-align: right;\n",
       "    }\n",
       "</style>\n",
       "<table border=\"1\" class=\"dataframe\">\n",
       "  <thead>\n",
       "    <tr style=\"text-align: right;\">\n",
       "      <th></th>\n",
       "      <th>model</th>\n",
       "      <th>year</th>\n",
       "      <th>motor_type</th>\n",
       "      <th>running</th>\n",
       "      <th>color</th>\n",
       "      <th>type</th>\n",
       "      <th>status</th>\n",
       "      <th>motor_volume</th>\n",
       "      <th>price</th>\n",
       "    </tr>\n",
       "  </thead>\n",
       "  <tbody>\n",
       "    <tr>\n",
       "      <th>0</th>\n",
       "      <td>toyota</td>\n",
       "      <td>2022</td>\n",
       "      <td>petrol</td>\n",
       "      <td>3000.00</td>\n",
       "      <td>skyblue</td>\n",
       "      <td>sedan</td>\n",
       "      <td>excellent</td>\n",
       "      <td>2.0</td>\n",
       "      <td>24500</td>\n",
       "    </tr>\n",
       "    <tr>\n",
       "      <th>1</th>\n",
       "      <td>mercedes-benz</td>\n",
       "      <td>2014</td>\n",
       "      <td>petrol</td>\n",
       "      <td>132000.00</td>\n",
       "      <td>black</td>\n",
       "      <td>sedan</td>\n",
       "      <td>excellent</td>\n",
       "      <td>2.0</td>\n",
       "      <td>25500</td>\n",
       "    </tr>\n",
       "    <tr>\n",
       "      <th>2</th>\n",
       "      <td>kia</td>\n",
       "      <td>2018</td>\n",
       "      <td>petrol</td>\n",
       "      <td>152887.30</td>\n",
       "      <td>other</td>\n",
       "      <td>sedan</td>\n",
       "      <td>excellent</td>\n",
       "      <td>2.0</td>\n",
       "      <td>11700</td>\n",
       "    </tr>\n",
       "    <tr>\n",
       "      <th>3</th>\n",
       "      <td>mercedes-benz</td>\n",
       "      <td>2002</td>\n",
       "      <td>petrol</td>\n",
       "      <td>220479.58</td>\n",
       "      <td>golden</td>\n",
       "      <td>sedan</td>\n",
       "      <td>excellent</td>\n",
       "      <td>3.2</td>\n",
       "      <td>12000</td>\n",
       "    </tr>\n",
       "    <tr>\n",
       "      <th>4</th>\n",
       "      <td>mercedes-benz</td>\n",
       "      <td>2017</td>\n",
       "      <td>petrol</td>\n",
       "      <td>130000.00</td>\n",
       "      <td>black</td>\n",
       "      <td>sedan</td>\n",
       "      <td>good</td>\n",
       "      <td>2.0</td>\n",
       "      <td>26000</td>\n",
       "    </tr>\n",
       "  </tbody>\n",
       "</table>\n",
       "</div>"
      ],
      "text/plain": [
       "           model  year motor_type    running    color   type     status  \\\n",
       "0         toyota  2022     petrol    3000.00  skyblue  sedan  excellent   \n",
       "1  mercedes-benz  2014     petrol  132000.00    black  sedan  excellent   \n",
       "2            kia  2018     petrol  152887.30    other  sedan  excellent   \n",
       "3  mercedes-benz  2002     petrol  220479.58   golden  sedan  excellent   \n",
       "4  mercedes-benz  2017     petrol  130000.00    black  sedan       good   \n",
       "\n",
       "   motor_volume  price  \n",
       "0           2.0  24500  \n",
       "1           2.0  25500  \n",
       "2           2.0  11700  \n",
       "3           3.2  12000  \n",
       "4           2.0  26000  "
      ]
     },
     "execution_count": 17,
     "metadata": {},
     "output_type": "execute_result"
    }
   ],
   "source": [
    "X_train.head()"
   ]
  },
  {
   "cell_type": "code",
   "execution_count": 18,
   "metadata": {},
   "outputs": [
    {
     "data": {
      "text/html": [
       "<div>\n",
       "<style scoped>\n",
       "    .dataframe tbody tr th:only-of-type {\n",
       "        vertical-align: middle;\n",
       "    }\n",
       "\n",
       "    .dataframe tbody tr th {\n",
       "        vertical-align: top;\n",
       "    }\n",
       "\n",
       "    .dataframe thead th {\n",
       "        text-align: right;\n",
       "    }\n",
       "</style>\n",
       "<table border=\"1\" class=\"dataframe\">\n",
       "  <thead>\n",
       "    <tr style=\"text-align: right;\">\n",
       "      <th></th>\n",
       "      <th>model</th>\n",
       "      <th>year</th>\n",
       "      <th>motor_type</th>\n",
       "      <th>running</th>\n",
       "      <th>color</th>\n",
       "      <th>type</th>\n",
       "      <th>status</th>\n",
       "      <th>motor_volume</th>\n",
       "      <th>price</th>\n",
       "    </tr>\n",
       "  </thead>\n",
       "  <tbody>\n",
       "    <tr>\n",
       "      <th>0</th>\n",
       "      <td>toyota</td>\n",
       "      <td>2022</td>\n",
       "      <td>petrol</td>\n",
       "      <td>3000.00</td>\n",
       "      <td>skyblue</td>\n",
       "      <td>sedan</td>\n",
       "      <td>excellent</td>\n",
       "      <td>2.0</td>\n",
       "      <td>24500</td>\n",
       "    </tr>\n",
       "    <tr>\n",
       "      <th>1</th>\n",
       "      <td>mercedes-benz</td>\n",
       "      <td>2014</td>\n",
       "      <td>petrol</td>\n",
       "      <td>132000.00</td>\n",
       "      <td>black</td>\n",
       "      <td>sedan</td>\n",
       "      <td>excellent</td>\n",
       "      <td>2.0</td>\n",
       "      <td>25500</td>\n",
       "    </tr>\n",
       "    <tr>\n",
       "      <th>2</th>\n",
       "      <td>kia</td>\n",
       "      <td>2018</td>\n",
       "      <td>petrol</td>\n",
       "      <td>152887.30</td>\n",
       "      <td>other</td>\n",
       "      <td>sedan</td>\n",
       "      <td>excellent</td>\n",
       "      <td>2.0</td>\n",
       "      <td>11700</td>\n",
       "    </tr>\n",
       "    <tr>\n",
       "      <th>3</th>\n",
       "      <td>mercedes-benz</td>\n",
       "      <td>2002</td>\n",
       "      <td>petrol</td>\n",
       "      <td>220479.58</td>\n",
       "      <td>golden</td>\n",
       "      <td>sedan</td>\n",
       "      <td>excellent</td>\n",
       "      <td>3.2</td>\n",
       "      <td>12000</td>\n",
       "    </tr>\n",
       "    <tr>\n",
       "      <th>4</th>\n",
       "      <td>mercedes-benz</td>\n",
       "      <td>2017</td>\n",
       "      <td>petrol</td>\n",
       "      <td>130000.00</td>\n",
       "      <td>black</td>\n",
       "      <td>sedan</td>\n",
       "      <td>good</td>\n",
       "      <td>2.0</td>\n",
       "      <td>26000</td>\n",
       "    </tr>\n",
       "  </tbody>\n",
       "</table>\n",
       "</div>"
      ],
      "text/plain": [
       "           model  year motor_type    running    color   type     status  \\\n",
       "0         toyota  2022     petrol    3000.00  skyblue  sedan  excellent   \n",
       "1  mercedes-benz  2014     petrol  132000.00    black  sedan  excellent   \n",
       "2            kia  2018     petrol  152887.30    other  sedan  excellent   \n",
       "3  mercedes-benz  2002     petrol  220479.58   golden  sedan  excellent   \n",
       "4  mercedes-benz  2017     petrol  130000.00    black  sedan       good   \n",
       "\n",
       "   motor_volume  price  \n",
       "0           2.0  24500  \n",
       "1           2.0  25500  \n",
       "2           2.0  11700  \n",
       "3           3.2  12000  \n",
       "4           2.0  26000  "
      ]
     },
     "execution_count": 18,
     "metadata": {},
     "output_type": "execute_result"
    }
   ],
   "source": [
    "X_train.head()"
   ]
  },
  {
   "cell_type": "code",
   "execution_count": 19,
   "metadata": {},
   "outputs": [
    {
     "name": "stdout",
     "output_type": "stream",
     "text": [
      "<class 'pandas.core.frame.DataFrame'>\n",
      "Index: 1633 entries, 0 to 1641\n",
      "Data columns (total 9 columns):\n",
      " #   Column        Non-Null Count  Dtype  \n",
      "---  ------        --------------  -----  \n",
      " 0   model         1633 non-null   object \n",
      " 1   year          1633 non-null   int64  \n",
      " 2   motor_type    1633 non-null   object \n",
      " 3   running       1633 non-null   float64\n",
      " 4   color         1633 non-null   object \n",
      " 5   type          1633 non-null   object \n",
      " 6   status        1633 non-null   object \n",
      " 7   motor_volume  1633 non-null   float64\n",
      " 8   price         1633 non-null   int64  \n",
      "dtypes: float64(2), int64(2), object(5)\n",
      "memory usage: 127.6+ KB\n"
     ]
    }
   ],
   "source": [
    "X_train.info()"
   ]
  },
  {
   "cell_type": "code",
   "execution_count": 20,
   "metadata": {},
   "outputs": [],
   "source": [
    "# lets change the year dtype into object\n",
    "X_train['year']= X_train['year'].astype(object)"
   ]
  },
  {
   "cell_type": "code",
   "execution_count": 21,
   "metadata": {},
   "outputs": [
    {
     "name": "stdout",
     "output_type": "stream",
     "text": [
      "<class 'pandas.core.frame.DataFrame'>\n",
      "Index: 1633 entries, 0 to 1641\n",
      "Data columns (total 9 columns):\n",
      " #   Column        Non-Null Count  Dtype  \n",
      "---  ------        --------------  -----  \n",
      " 0   model         1633 non-null   object \n",
      " 1   year          1633 non-null   object \n",
      " 2   motor_type    1633 non-null   object \n",
      " 3   running       1633 non-null   float64\n",
      " 4   color         1633 non-null   object \n",
      " 5   type          1633 non-null   object \n",
      " 6   status        1633 non-null   object \n",
      " 7   motor_volume  1633 non-null   float64\n",
      " 8   price         1633 non-null   int64  \n",
      "dtypes: float64(2), int64(1), object(6)\n",
      "memory usage: 127.6+ KB\n"
     ]
    }
   ],
   "source": [
    "X_train.info()"
   ]
  },
  {
   "cell_type": "code",
   "execution_count": 22,
   "metadata": {},
   "outputs": [
    {
     "name": "stdout",
     "output_type": "stream",
     "text": [
      "<class 'pandas.core.frame.DataFrame'>\n",
      "RangeIndex: 411 entries, 0 to 410\n",
      "Data columns (total 10 columns):\n",
      " #   Column        Non-Null Count  Dtype  \n",
      "---  ------        --------------  -----  \n",
      " 0   Id            411 non-null    int64  \n",
      " 1   model         411 non-null    object \n",
      " 2   year          411 non-null    int64  \n",
      " 3   motor_type    411 non-null    object \n",
      " 4   running       411 non-null    object \n",
      " 5   wheel         411 non-null    object \n",
      " 6   color         411 non-null    object \n",
      " 7   type          411 non-null    object \n",
      " 8   status        411 non-null    object \n",
      " 9   motor_volume  411 non-null    float64\n",
      "dtypes: float64(1), int64(2), object(7)\n",
      "memory usage: 32.2+ KB\n"
     ]
    }
   ],
   "source": [
    "# lets check for test data\n",
    "X_test.info()"
   ]
  },
  {
   "cell_type": "code",
   "execution_count": 23,
   "metadata": {},
   "outputs": [
    {
     "data": {
      "text/html": [
       "<div>\n",
       "<style scoped>\n",
       "    .dataframe tbody tr th:only-of-type {\n",
       "        vertical-align: middle;\n",
       "    }\n",
       "\n",
       "    .dataframe tbody tr th {\n",
       "        vertical-align: top;\n",
       "    }\n",
       "\n",
       "    .dataframe thead th {\n",
       "        text-align: right;\n",
       "    }\n",
       "</style>\n",
       "<table border=\"1\" class=\"dataframe\">\n",
       "  <thead>\n",
       "    <tr style=\"text-align: right;\">\n",
       "      <th></th>\n",
       "      <th>Id</th>\n",
       "      <th>model</th>\n",
       "      <th>year</th>\n",
       "      <th>motor_type</th>\n",
       "      <th>running</th>\n",
       "      <th>wheel</th>\n",
       "      <th>color</th>\n",
       "      <th>type</th>\n",
       "      <th>status</th>\n",
       "      <th>motor_volume</th>\n",
       "    </tr>\n",
       "  </thead>\n",
       "  <tbody>\n",
       "    <tr>\n",
       "      <th>0</th>\n",
       "      <td>0</td>\n",
       "      <td>kia</td>\n",
       "      <td>2020</td>\n",
       "      <td>petrol</td>\n",
       "      <td>24000  km</td>\n",
       "      <td>left</td>\n",
       "      <td>black</td>\n",
       "      <td>sedan</td>\n",
       "      <td>excellent</td>\n",
       "      <td>2.0</td>\n",
       "    </tr>\n",
       "    <tr>\n",
       "      <th>1</th>\n",
       "      <td>1</td>\n",
       "      <td>nissan</td>\n",
       "      <td>2017</td>\n",
       "      <td>petrol</td>\n",
       "      <td>85000  miles</td>\n",
       "      <td>left</td>\n",
       "      <td>white</td>\n",
       "      <td>suv</td>\n",
       "      <td>excellent</td>\n",
       "      <td>2.0</td>\n",
       "    </tr>\n",
       "    <tr>\n",
       "      <th>2</th>\n",
       "      <td>2</td>\n",
       "      <td>hyundai</td>\n",
       "      <td>2021</td>\n",
       "      <td>petrol</td>\n",
       "      <td>30000  miles</td>\n",
       "      <td>left</td>\n",
       "      <td>white</td>\n",
       "      <td>sedan</td>\n",
       "      <td>excellent</td>\n",
       "      <td>2.0</td>\n",
       "    </tr>\n",
       "    <tr>\n",
       "      <th>3</th>\n",
       "      <td>3</td>\n",
       "      <td>kia</td>\n",
       "      <td>2018</td>\n",
       "      <td>petrol</td>\n",
       "      <td>53000  miles</td>\n",
       "      <td>left</td>\n",
       "      <td>silver</td>\n",
       "      <td>sedan</td>\n",
       "      <td>excellent</td>\n",
       "      <td>2.0</td>\n",
       "    </tr>\n",
       "    <tr>\n",
       "      <th>4</th>\n",
       "      <td>4</td>\n",
       "      <td>mercedes-benz</td>\n",
       "      <td>2003</td>\n",
       "      <td>petrol</td>\n",
       "      <td>230000  km</td>\n",
       "      <td>left</td>\n",
       "      <td>black</td>\n",
       "      <td>Universal</td>\n",
       "      <td>normal</td>\n",
       "      <td>1.8</td>\n",
       "    </tr>\n",
       "  </tbody>\n",
       "</table>\n",
       "</div>"
      ],
      "text/plain": [
       "   Id          model  year motor_type       running wheel   color       type  \\\n",
       "0   0            kia  2020     petrol     24000  km  left   black      sedan   \n",
       "1   1         nissan  2017     petrol  85000  miles  left   white        suv   \n",
       "2   2        hyundai  2021     petrol  30000  miles  left   white      sedan   \n",
       "3   3            kia  2018     petrol  53000  miles  left  silver      sedan   \n",
       "4   4  mercedes-benz  2003     petrol    230000  km  left   black  Universal   \n",
       "\n",
       "      status  motor_volume  \n",
       "0  excellent           2.0  \n",
       "1  excellent           2.0  \n",
       "2  excellent           2.0  \n",
       "3  excellent           2.0  \n",
       "4     normal           1.8  "
      ]
     },
     "execution_count": 23,
     "metadata": {},
     "output_type": "execute_result"
    }
   ],
   "source": [
    "# as we see there is no missing values\n",
    "X_test.head()"
   ]
  },
  {
   "cell_type": "code",
   "execution_count": 24,
   "metadata": {},
   "outputs": [],
   "source": [
    "#remove ID and wheel column as we dont need\n",
    "X_test.drop(['Id', 'wheel'], axis=1, inplace=True)"
   ]
  },
  {
   "cell_type": "code",
   "execution_count": 25,
   "metadata": {},
   "outputs": [
    {
     "data": {
      "text/html": [
       "<div>\n",
       "<style scoped>\n",
       "    .dataframe tbody tr th:only-of-type {\n",
       "        vertical-align: middle;\n",
       "    }\n",
       "\n",
       "    .dataframe tbody tr th {\n",
       "        vertical-align: top;\n",
       "    }\n",
       "\n",
       "    .dataframe thead th {\n",
       "        text-align: right;\n",
       "    }\n",
       "</style>\n",
       "<table border=\"1\" class=\"dataframe\">\n",
       "  <thead>\n",
       "    <tr style=\"text-align: right;\">\n",
       "      <th></th>\n",
       "      <th>model</th>\n",
       "      <th>year</th>\n",
       "      <th>motor_type</th>\n",
       "      <th>running</th>\n",
       "      <th>color</th>\n",
       "      <th>type</th>\n",
       "      <th>status</th>\n",
       "      <th>motor_volume</th>\n",
       "    </tr>\n",
       "  </thead>\n",
       "  <tbody>\n",
       "    <tr>\n",
       "      <th>0</th>\n",
       "      <td>kia</td>\n",
       "      <td>2020</td>\n",
       "      <td>petrol</td>\n",
       "      <td>24000  km</td>\n",
       "      <td>black</td>\n",
       "      <td>sedan</td>\n",
       "      <td>excellent</td>\n",
       "      <td>2.0</td>\n",
       "    </tr>\n",
       "    <tr>\n",
       "      <th>1</th>\n",
       "      <td>nissan</td>\n",
       "      <td>2017</td>\n",
       "      <td>petrol</td>\n",
       "      <td>85000  miles</td>\n",
       "      <td>white</td>\n",
       "      <td>suv</td>\n",
       "      <td>excellent</td>\n",
       "      <td>2.0</td>\n",
       "    </tr>\n",
       "    <tr>\n",
       "      <th>2</th>\n",
       "      <td>hyundai</td>\n",
       "      <td>2021</td>\n",
       "      <td>petrol</td>\n",
       "      <td>30000  miles</td>\n",
       "      <td>white</td>\n",
       "      <td>sedan</td>\n",
       "      <td>excellent</td>\n",
       "      <td>2.0</td>\n",
       "    </tr>\n",
       "    <tr>\n",
       "      <th>3</th>\n",
       "      <td>kia</td>\n",
       "      <td>2018</td>\n",
       "      <td>petrol</td>\n",
       "      <td>53000  miles</td>\n",
       "      <td>silver</td>\n",
       "      <td>sedan</td>\n",
       "      <td>excellent</td>\n",
       "      <td>2.0</td>\n",
       "    </tr>\n",
       "    <tr>\n",
       "      <th>4</th>\n",
       "      <td>mercedes-benz</td>\n",
       "      <td>2003</td>\n",
       "      <td>petrol</td>\n",
       "      <td>230000  km</td>\n",
       "      <td>black</td>\n",
       "      <td>Universal</td>\n",
       "      <td>normal</td>\n",
       "      <td>1.8</td>\n",
       "    </tr>\n",
       "  </tbody>\n",
       "</table>\n",
       "</div>"
      ],
      "text/plain": [
       "           model  year motor_type       running   color       type     status  \\\n",
       "0            kia  2020     petrol     24000  km   black      sedan  excellent   \n",
       "1         nissan  2017     petrol  85000  miles   white        suv  excellent   \n",
       "2        hyundai  2021     petrol  30000  miles   white      sedan  excellent   \n",
       "3            kia  2018     petrol  53000  miles  silver      sedan  excellent   \n",
       "4  mercedes-benz  2003     petrol    230000  km   black  Universal     normal   \n",
       "\n",
       "   motor_volume  \n",
       "0           2.0  \n",
       "1           2.0  \n",
       "2           2.0  \n",
       "3           2.0  \n",
       "4           1.8  "
      ]
     },
     "execution_count": 25,
     "metadata": {},
     "output_type": "execute_result"
    }
   ],
   "source": [
    "X_test.head()"
   ]
  },
  {
   "cell_type": "code",
   "execution_count": 26,
   "metadata": {},
   "outputs": [],
   "source": [
    "# lets convert running miles into km by unsing function that we define alredy\n",
    "X_test['running']= X_test['running'].apply(convert_miles_to_km)"
   ]
  },
  {
   "cell_type": "code",
   "execution_count": 27,
   "metadata": {},
   "outputs": [
    {
     "data": {
      "text/html": [
       "<div>\n",
       "<style scoped>\n",
       "    .dataframe tbody tr th:only-of-type {\n",
       "        vertical-align: middle;\n",
       "    }\n",
       "\n",
       "    .dataframe tbody tr th {\n",
       "        vertical-align: top;\n",
       "    }\n",
       "\n",
       "    .dataframe thead th {\n",
       "        text-align: right;\n",
       "    }\n",
       "</style>\n",
       "<table border=\"1\" class=\"dataframe\">\n",
       "  <thead>\n",
       "    <tr style=\"text-align: right;\">\n",
       "      <th></th>\n",
       "      <th>model</th>\n",
       "      <th>year</th>\n",
       "      <th>motor_type</th>\n",
       "      <th>running</th>\n",
       "      <th>color</th>\n",
       "      <th>type</th>\n",
       "      <th>status</th>\n",
       "      <th>motor_volume</th>\n",
       "    </tr>\n",
       "  </thead>\n",
       "  <tbody>\n",
       "    <tr>\n",
       "      <th>0</th>\n",
       "      <td>kia</td>\n",
       "      <td>2020</td>\n",
       "      <td>petrol</td>\n",
       "      <td>24000.00</td>\n",
       "      <td>black</td>\n",
       "      <td>sedan</td>\n",
       "      <td>excellent</td>\n",
       "      <td>2.0</td>\n",
       "    </tr>\n",
       "    <tr>\n",
       "      <th>1</th>\n",
       "      <td>nissan</td>\n",
       "      <td>2017</td>\n",
       "      <td>petrol</td>\n",
       "      <td>136793.90</td>\n",
       "      <td>white</td>\n",
       "      <td>suv</td>\n",
       "      <td>excellent</td>\n",
       "      <td>2.0</td>\n",
       "    </tr>\n",
       "    <tr>\n",
       "      <th>2</th>\n",
       "      <td>hyundai</td>\n",
       "      <td>2021</td>\n",
       "      <td>petrol</td>\n",
       "      <td>48280.20</td>\n",
       "      <td>white</td>\n",
       "      <td>sedan</td>\n",
       "      <td>excellent</td>\n",
       "      <td>2.0</td>\n",
       "    </tr>\n",
       "    <tr>\n",
       "      <th>3</th>\n",
       "      <td>kia</td>\n",
       "      <td>2018</td>\n",
       "      <td>petrol</td>\n",
       "      <td>85295.02</td>\n",
       "      <td>silver</td>\n",
       "      <td>sedan</td>\n",
       "      <td>excellent</td>\n",
       "      <td>2.0</td>\n",
       "    </tr>\n",
       "    <tr>\n",
       "      <th>4</th>\n",
       "      <td>mercedes-benz</td>\n",
       "      <td>2003</td>\n",
       "      <td>petrol</td>\n",
       "      <td>230000.00</td>\n",
       "      <td>black</td>\n",
       "      <td>Universal</td>\n",
       "      <td>normal</td>\n",
       "      <td>1.8</td>\n",
       "    </tr>\n",
       "  </tbody>\n",
       "</table>\n",
       "</div>"
      ],
      "text/plain": [
       "           model  year motor_type    running   color       type     status  \\\n",
       "0            kia  2020     petrol   24000.00   black      sedan  excellent   \n",
       "1         nissan  2017     petrol  136793.90   white        suv  excellent   \n",
       "2        hyundai  2021     petrol   48280.20   white      sedan  excellent   \n",
       "3            kia  2018     petrol   85295.02  silver      sedan  excellent   \n",
       "4  mercedes-benz  2003     petrol  230000.00   black  Universal     normal   \n",
       "\n",
       "   motor_volume  \n",
       "0           2.0  \n",
       "1           2.0  \n",
       "2           2.0  \n",
       "3           2.0  \n",
       "4           1.8  "
      ]
     },
     "execution_count": 27,
     "metadata": {},
     "output_type": "execute_result"
    }
   ],
   "source": [
    "X_test.head()"
   ]
  },
  {
   "cell_type": "code",
   "execution_count": 28,
   "metadata": {},
   "outputs": [
    {
     "name": "stdout",
     "output_type": "stream",
     "text": [
      "<class 'pandas.core.frame.DataFrame'>\n",
      "RangeIndex: 411 entries, 0 to 410\n",
      "Data columns (total 8 columns):\n",
      " #   Column        Non-Null Count  Dtype  \n",
      "---  ------        --------------  -----  \n",
      " 0   model         411 non-null    object \n",
      " 1   year          411 non-null    int64  \n",
      " 2   motor_type    411 non-null    object \n",
      " 3   running       411 non-null    float64\n",
      " 4   color         411 non-null    object \n",
      " 5   type          411 non-null    object \n",
      " 6   status        411 non-null    object \n",
      " 7   motor_volume  411 non-null    float64\n",
      "dtypes: float64(2), int64(1), object(5)\n",
      "memory usage: 25.8+ KB\n"
     ]
    }
   ],
   "source": [
    "X_test.info()"
   ]
  },
  {
   "cell_type": "code",
   "execution_count": 29,
   "metadata": {},
   "outputs": [],
   "source": [
    "#change year dtype\n",
    "X_test['year']= X_test['year'].astype(object)"
   ]
  },
  {
   "cell_type": "code",
   "execution_count": 30,
   "metadata": {},
   "outputs": [
    {
     "name": "stdout",
     "output_type": "stream",
     "text": [
      "<class 'pandas.core.frame.DataFrame'>\n",
      "RangeIndex: 411 entries, 0 to 410\n",
      "Data columns (total 8 columns):\n",
      " #   Column        Non-Null Count  Dtype  \n",
      "---  ------        --------------  -----  \n",
      " 0   model         411 non-null    object \n",
      " 1   year          411 non-null    object \n",
      " 2   motor_type    411 non-null    object \n",
      " 3   running       411 non-null    float64\n",
      " 4   color         411 non-null    object \n",
      " 5   type          411 non-null    object \n",
      " 6   status        411 non-null    object \n",
      " 7   motor_volume  411 non-null    float64\n",
      "dtypes: float64(2), object(6)\n",
      "memory usage: 25.8+ KB\n"
     ]
    }
   ],
   "source": [
    "X_test.info()"
   ]
  },
  {
   "cell_type": "code",
   "execution_count": 31,
   "metadata": {},
   "outputs": [],
   "source": [
    "# EDA\n",
    "import matplotlib.pyplot as plt\n",
    "import seaborn as sns\n"
   ]
  },
  {
   "cell_type": "code",
   "execution_count": 32,
   "metadata": {},
   "outputs": [
    {
     "data": {
      "text/html": [
       "<div>\n",
       "<style scoped>\n",
       "    .dataframe tbody tr th:only-of-type {\n",
       "        vertical-align: middle;\n",
       "    }\n",
       "\n",
       "    .dataframe tbody tr th {\n",
       "        vertical-align: top;\n",
       "    }\n",
       "\n",
       "    .dataframe thead th {\n",
       "        text-align: right;\n",
       "    }\n",
       "</style>\n",
       "<table border=\"1\" class=\"dataframe\">\n",
       "  <thead>\n",
       "    <tr style=\"text-align: right;\">\n",
       "      <th></th>\n",
       "      <th>running</th>\n",
       "      <th>motor_volume</th>\n",
       "      <th>price</th>\n",
       "    </tr>\n",
       "  </thead>\n",
       "  <tbody>\n",
       "    <tr>\n",
       "      <th>count</th>\n",
       "      <td>1.633000e+03</td>\n",
       "      <td>1633.000000</td>\n",
       "      <td>1633.000000</td>\n",
       "    </tr>\n",
       "    <tr>\n",
       "      <th>mean</th>\n",
       "      <td>1.192440e+05</td>\n",
       "      <td>2.035334</td>\n",
       "      <td>15980.424985</td>\n",
       "    </tr>\n",
       "    <tr>\n",
       "      <th>std</th>\n",
       "      <td>9.689066e+04</td>\n",
       "      <td>0.253688</td>\n",
       "      <td>7191.552191</td>\n",
       "    </tr>\n",
       "    <tr>\n",
       "      <th>min</th>\n",
       "      <td>1.000000e+01</td>\n",
       "      <td>0.200000</td>\n",
       "      <td>462.000000</td>\n",
       "    </tr>\n",
       "    <tr>\n",
       "      <th>25%</th>\n",
       "      <td>5.632690e+04</td>\n",
       "      <td>2.000000</td>\n",
       "      <td>11950.000000</td>\n",
       "    </tr>\n",
       "    <tr>\n",
       "      <th>50%</th>\n",
       "      <td>9.900000e+04</td>\n",
       "      <td>2.000000</td>\n",
       "      <td>15750.000000</td>\n",
       "    </tr>\n",
       "    <tr>\n",
       "      <th>75%</th>\n",
       "      <td>1.609340e+05</td>\n",
       "      <td>2.000000</td>\n",
       "      <td>18500.000000</td>\n",
       "    </tr>\n",
       "    <tr>\n",
       "      <th>max</th>\n",
       "      <td>1.251708e+06</td>\n",
       "      <td>4.000000</td>\n",
       "      <td>87000.000000</td>\n",
       "    </tr>\n",
       "  </tbody>\n",
       "</table>\n",
       "</div>"
      ],
      "text/plain": [
       "            running  motor_volume         price\n",
       "count  1.633000e+03   1633.000000   1633.000000\n",
       "mean   1.192440e+05      2.035334  15980.424985\n",
       "std    9.689066e+04      0.253688   7191.552191\n",
       "min    1.000000e+01      0.200000    462.000000\n",
       "25%    5.632690e+04      2.000000  11950.000000\n",
       "50%    9.900000e+04      2.000000  15750.000000\n",
       "75%    1.609340e+05      2.000000  18500.000000\n",
       "max    1.251708e+06      4.000000  87000.000000"
      ]
     },
     "execution_count": 32,
     "metadata": {},
     "output_type": "execute_result"
    }
   ],
   "source": [
    "X_train.describe()"
   ]
  },
  {
   "cell_type": "code",
   "execution_count": 33,
   "metadata": {},
   "outputs": [
    {
     "data": {
      "image/png": "[encoded data removed]",
      "text/plain": [
       "<Figure size 640x480 with 1 Axes>"
      ]
     },
     "metadata": {},
     "output_type": "display_data"
    }
   ],
   "source": [
    "sns.scatterplot(x= X_train['running'], y=X_train['price'], data=X_train)\n",
    "plt.show()"
   ]
  },
  {
   "cell_type": "code",
   "execution_count": 34,
   "metadata": {},
   "outputs": [
    {
     "data": {
      "text/plain": [
       "<Axes: >"
      ]
     },
     "execution_count": 34,
     "metadata": {},
     "output_type": "execute_result"
    },
    {
     "data": {
      "image/png": "[encoded data removed]",
      "text/plain": [
       "<Figure size 640x480 with 1 Axes>"
      ]
     },
     "metadata": {},
     "output_type": "display_data"
    }
   ],
   "source": [
    "sns.boxplot(X_train)"
   ]
  },
  {
   "cell_type": "code",
   "execution_count": 35,
   "metadata": {},
   "outputs": [
    {
     "data": {
      "text/plain": [
       "<Axes: >"
      ]
     },
     "execution_count": 35,
     "metadata": {},
     "output_type": "execute_result"
    },
    {
     "data": {
      "image/png": "[encoded data removed]",
      "text/plain": [
       "<Figure size 640x480 with 1 Axes>"
      ]
     },
     "metadata": {},
     "output_type": "display_data"
    }
   ],
   "source": [
    "sns.boxplot(X_train['running'])"
   ]
  },
  {
   "cell_type": "code",
   "execution_count": 36,
   "metadata": {},
   "outputs": [
    {
     "name": "stderr",
     "output_type": "stream",
     "text": [
      "C:\\ProgramData\\anaconda3\\Lib\\site-packages\\seaborn\\_oldcore.py:1119: FutureWarning: use_inf_as_na option is deprecated and will be removed in a future version. Convert inf values to NaN before operating instead.\n",
      "  with pd.option_context('mode.use_inf_as_na', True):\n"
     ]
    },
    {
     "data": {
      "text/plain": [
       "<Axes: xlabel='running', ylabel='Density'>"
      ]
     },
     "execution_count": 36,
     "metadata": {},
     "output_type": "execute_result"
    },
    {
     "data": {
      "image/png": "[encoded data removed]",
      "text/plain": [
       "<Figure size 640x480 with 1 Axes>"
      ]
     },
     "metadata": {},
     "output_type": "display_data"
    }
   ],
   "source": [
    "sns.kdeplot(X_train['running'])"
   ]
  },
  {
   "cell_type": "code",
   "execution_count": 37,
   "metadata": {},
   "outputs": [
    {
     "data": {
      "text/plain": [
       "2.8443457161936516"
      ]
     },
     "execution_count": 37,
     "metadata": {},
     "output_type": "execute_result"
    }
   ],
   "source": [
    "X_train['running'].skew()"
   ]
  },
  {
   "cell_type": "code",
   "execution_count": 38,
   "metadata": {},
   "outputs": [],
   "source": [
    "# as we seen running feture is right skew and having outliers.\n",
    "#so lets handle the outlier\n",
    "\n",
    "\n",
    "percentile = X_train['running'].quantile([0.25, 0.75])"
   ]
  },
  {
   "cell_type": "code",
   "execution_count": 39,
   "metadata": {},
   "outputs": [
    {
     "data": {
      "text/plain": [
       "0.25     56326.9\n",
       "0.75    160934.0\n",
       "Name: running, dtype: float64"
      ]
     },
     "execution_count": 39,
     "metadata": {},
     "output_type": "execute_result"
    }
   ],
   "source": [
    "percentile"
   ]
  },
  {
   "cell_type": "code",
   "execution_count": 40,
   "metadata": {},
   "outputs": [],
   "source": [
    "iqr = X_train['running'].quantile( 0.75)- X_train['running'].quantile(0.25)"
   ]
  },
  {
   "cell_type": "code",
   "execution_count": 41,
   "metadata": {},
   "outputs": [
    {
     "data": {
      "text/plain": [
       "104607.1"
      ]
     },
     "execution_count": 41,
     "metadata": {},
     "output_type": "execute_result"
    }
   ],
   "source": [
    "iqr"
   ]
  },
  {
   "cell_type": "code",
   "execution_count": 42,
   "metadata": {},
   "outputs": [
    {
     "name": "stdout",
     "output_type": "stream",
     "text": [
      "upper bond:- 317844.65 lower_bond:- -100583.75000000003\n"
     ]
    }
   ],
   "source": [
    "upper_bond = 160934.0 + 1.5 *iqr\n",
    "lower_bond = 56326.9 - 1.5 * iqr\n",
    "\n",
    "print(\"upper bond:-\" , upper_bond, 'lower_bond:-', lower_bond)"
   ]
  },
  {
   "cell_type": "code",
   "execution_count": 43,
   "metadata": {},
   "outputs": [],
   "source": [
    "# Function to replace outliers of the 'running' feature with upper limit\n",
    "def replace_running_outliers_with_upper_limit(X_train, feature_name, upper_limit):\n",
    "    \n",
    "    # Replace outliers with the upper limit for the 'running' feature\n",
    "    X_train[feature_name] = np.where(X_train[feature_name] > upper_bond, upper_limit, X_train[feature_name])\n",
    "    \n",
    "    return X_train\n",
    "\n",
    "# Define the upper limit for the 'running' feature\n",
    "upper_limit_running = 320000\n",
    "\n",
    "# Replace outliers of the 'running' feature with the upper limit\n",
    "X_train = replace_running_outliers_with_upper_limit(X_train, 'running', upper_limit_running)\n",
    "\n",
    "\n"
   ]
  },
  {
   "cell_type": "code",
   "execution_count": 44,
   "metadata": {},
   "outputs": [
    {
     "data": {
      "text/plain": [
       "<Axes: >"
      ]
     },
     "execution_count": 44,
     "metadata": {},
     "output_type": "execute_result"
    },
    {
     "data": {
      "image/png": "[encoded data removed]",
      "text/plain": [
       "<Figure size 640x480 with 1 Axes>"
      ]
     },
     "metadata": {},
     "output_type": "display_data"
    }
   ],
   "source": [
    "sns.boxplot(X_train)"
   ]
  },
  {
   "cell_type": "code",
   "execution_count": 45,
   "metadata": {},
   "outputs": [
    {
     "data": {
      "text/plain": [
       "<Axes: >"
      ]
     },
     "execution_count": 45,
     "metadata": {},
     "output_type": "execute_result"
    },
    {
     "data": {
      "image/png": "[encoded data removed]",
      "text/plain": [
       "<Figure size 640x480 with 1 Axes>"
      ]
     },
     "metadata": {},
     "output_type": "display_data"
    }
   ],
   "source": [
    "sns.boxplot(X_test)"
   ]
  },
  {
   "cell_type": "code",
   "execution_count": null,
   "metadata": {},
   "outputs": [],
   "source": []
  },
  {
   "cell_type": "code",
   "execution_count": 46,
   "metadata": {},
   "outputs": [
    {
     "data": {
      "text/plain": [
       "array(['excellent', 'good', 'crashed', 'normal', 'new'], dtype=object)"
      ]
     },
     "execution_count": 46,
     "metadata": {},
     "output_type": "execute_result"
    }
   ],
   "source": [
    "X_train['status'].unique()"
   ]
  },
  {
   "cell_type": "code",
   "execution_count": 47,
   "metadata": {},
   "outputs": [
    {
     "data": {
      "text/plain": [
       "5"
      ]
     },
     "execution_count": 47,
     "metadata": {},
     "output_type": "execute_result"
    }
   ],
   "source": [
    "X_train['status'].nunique()"
   ]
  },
  {
   "cell_type": "code",
   "execution_count": 48,
   "metadata": {},
   "outputs": [
    {
     "data": {
      "image/png": "[encoded data removed]",
      "text/plain": [
       "<Figure size 640x480 with 1 Axes>"
      ]
     },
     "metadata": {},
     "output_type": "display_data"
    }
   ],
   "source": [
    "sns.barplot(x= X_train['status'], y=X_train['price'], data=X_train)\n",
    "plt.show()"
   ]
  },
  {
   "cell_type": "code",
   "execution_count": 49,
   "metadata": {},
   "outputs": [
    {
     "data": {
      "image/png": "[encoded data removed]",
      "text/plain": [
       "<Figure size 640x480 with 1 Axes>"
      ]
     },
     "metadata": {},
     "output_type": "display_data"
    }
   ],
   "source": [
    "sns.barplot(x= X_train['model'], y=X_train['price'], data=X_train)\n",
    "plt.show()"
   ]
  },
  {
   "cell_type": "code",
   "execution_count": 50,
   "metadata": {},
   "outputs": [
    {
     "data": {
      "image/png": "[encoded data removed]",
      "text/plain": [
       "<Figure size 640x480 with 1 Axes>"
      ]
     },
     "metadata": {},
     "output_type": "display_data"
    }
   ],
   "source": [
    "sns.barplot(x= X_train['status'], y=X_train['price'], data=X_train, hue=X_train['model'])\n",
    "plt.show()"
   ]
  },
  {
   "cell_type": "code",
   "execution_count": 51,
   "metadata": {},
   "outputs": [],
   "source": [
    "#lets split the data into dependent and independent feature\n",
    "X_train_final =X_train.drop('price', axis=1)\n",
    "y_train_final = X_train['price']"
   ]
  },
  {
   "cell_type": "code",
   "execution_count": 52,
   "metadata": {},
   "outputs": [
    {
     "name": "stdout",
     "output_type": "stream",
     "text": [
      "<class 'pandas.core.frame.DataFrame'>\n",
      "Index: 1633 entries, 0 to 1641\n",
      "Data columns (total 8 columns):\n",
      " #   Column        Non-Null Count  Dtype  \n",
      "---  ------        --------------  -----  \n",
      " 0   model         1633 non-null   object \n",
      " 1   year          1633 non-null   object \n",
      " 2   motor_type    1633 non-null   object \n",
      " 3   running       1633 non-null   float64\n",
      " 4   color         1633 non-null   object \n",
      " 5   type          1633 non-null   object \n",
      " 6   status        1633 non-null   object \n",
      " 7   motor_volume  1633 non-null   float64\n",
      "dtypes: float64(2), object(6)\n",
      "memory usage: 179.4+ KB\n"
     ]
    }
   ],
   "source": [
    "# lets convert all categorical features into numerical features\n",
    "X_train_final.info()"
   ]
  },
  {
   "cell_type": "code",
   "execution_count": 53,
   "metadata": {},
   "outputs": [
    {
     "data": {
      "text/plain": [
       "array(['toyota', 'mercedes-benz', 'kia', 'nissan', 'hyundai'],\n",
       "      dtype=object)"
      ]
     },
     "execution_count": 53,
     "metadata": {},
     "output_type": "execute_result"
    }
   ],
   "source": [
    "X_train_final['model'].unique()"
   ]
  },
  {
   "cell_type": "code",
   "execution_count": 54,
   "metadata": {},
   "outputs": [
    {
     "data": {
      "text/plain": [
       "array(['sedan', 'suv', 'Universal', 'Coupe', 'pickup', 'hatchback',\n",
       "       'minivan / minibus'], dtype=object)"
      ]
     },
     "execution_count": 54,
     "metadata": {},
     "output_type": "execute_result"
    }
   ],
   "source": [
    "X_train_final['type'].unique()"
   ]
  },
  {
   "cell_type": "code",
   "execution_count": 55,
   "metadata": {},
   "outputs": [
    {
     "data": {
      "text/plain": [
       "array(['petrol', 'gas', 'petrol and gas', 'diesel', 'hybrid'],\n",
       "      dtype=object)"
      ]
     },
     "execution_count": 55,
     "metadata": {},
     "output_type": "execute_result"
    }
   ],
   "source": [
    "X_train_final['motor_type'].unique()"
   ]
  },
  {
   "cell_type": "code",
   "execution_count": 56,
   "metadata": {},
   "outputs": [
    {
     "data": {
      "text/plain": [
       "Index(['model', 'year', 'motor_type', 'running', 'color', 'type', 'status',\n",
       "       'motor_volume'],\n",
       "      dtype='object')"
      ]
     },
     "execution_count": 56,
     "metadata": {},
     "output_type": "execute_result"
    }
   ],
   "source": [
    "X_train_final.columns"
   ]
  },
  {
   "cell_type": "code",
   "execution_count": 57,
   "metadata": {},
   "outputs": [],
   "source": [
    "categories = ['model', 'year', 'motor_type', 'color', 'type']"
   ]
  },
  {
   "cell_type": "code",
   "execution_count": 58,
   "metadata": {},
   "outputs": [
    {
     "data": {
      "text/html": [
       "<div>\n",
       "<style scoped>\n",
       "    .dataframe tbody tr th:only-of-type {\n",
       "        vertical-align: middle;\n",
       "    }\n",
       "\n",
       "    .dataframe tbody tr th {\n",
       "        vertical-align: top;\n",
       "    }\n",
       "\n",
       "    .dataframe thead th {\n",
       "        text-align: right;\n",
       "    }\n",
       "</style>\n",
       "<table border=\"1\" class=\"dataframe\">\n",
       "  <thead>\n",
       "    <tr style=\"text-align: right;\">\n",
       "      <th></th>\n",
       "      <th>model</th>\n",
       "      <th>year</th>\n",
       "      <th>motor_type</th>\n",
       "      <th>running</th>\n",
       "      <th>color</th>\n",
       "      <th>type</th>\n",
       "      <th>status</th>\n",
       "      <th>motor_volume</th>\n",
       "    </tr>\n",
       "  </thead>\n",
       "  <tbody>\n",
       "    <tr>\n",
       "      <th>0</th>\n",
       "      <td>toyota</td>\n",
       "      <td>2022</td>\n",
       "      <td>petrol</td>\n",
       "      <td>3000.00</td>\n",
       "      <td>skyblue</td>\n",
       "      <td>sedan</td>\n",
       "      <td>excellent</td>\n",
       "      <td>2.0</td>\n",
       "    </tr>\n",
       "    <tr>\n",
       "      <th>1</th>\n",
       "      <td>mercedes-benz</td>\n",
       "      <td>2014</td>\n",
       "      <td>petrol</td>\n",
       "      <td>132000.00</td>\n",
       "      <td>black</td>\n",
       "      <td>sedan</td>\n",
       "      <td>excellent</td>\n",
       "      <td>2.0</td>\n",
       "    </tr>\n",
       "    <tr>\n",
       "      <th>2</th>\n",
       "      <td>kia</td>\n",
       "      <td>2018</td>\n",
       "      <td>petrol</td>\n",
       "      <td>152887.30</td>\n",
       "      <td>other</td>\n",
       "      <td>sedan</td>\n",
       "      <td>excellent</td>\n",
       "      <td>2.0</td>\n",
       "    </tr>\n",
       "    <tr>\n",
       "      <th>3</th>\n",
       "      <td>mercedes-benz</td>\n",
       "      <td>2002</td>\n",
       "      <td>petrol</td>\n",
       "      <td>220479.58</td>\n",
       "      <td>golden</td>\n",
       "      <td>sedan</td>\n",
       "      <td>excellent</td>\n",
       "      <td>3.2</td>\n",
       "    </tr>\n",
       "    <tr>\n",
       "      <th>4</th>\n",
       "      <td>mercedes-benz</td>\n",
       "      <td>2017</td>\n",
       "      <td>petrol</td>\n",
       "      <td>130000.00</td>\n",
       "      <td>black</td>\n",
       "      <td>sedan</td>\n",
       "      <td>good</td>\n",
       "      <td>2.0</td>\n",
       "    </tr>\n",
       "  </tbody>\n",
       "</table>\n",
       "</div>"
      ],
      "text/plain": [
       "           model  year motor_type    running    color   type     status  \\\n",
       "0         toyota  2022     petrol    3000.00  skyblue  sedan  excellent   \n",
       "1  mercedes-benz  2014     petrol  132000.00    black  sedan  excellent   \n",
       "2            kia  2018     petrol  152887.30    other  sedan  excellent   \n",
       "3  mercedes-benz  2002     petrol  220479.58   golden  sedan  excellent   \n",
       "4  mercedes-benz  2017     petrol  130000.00    black  sedan       good   \n",
       "\n",
       "   motor_volume  \n",
       "0           2.0  \n",
       "1           2.0  \n",
       "2           2.0  \n",
       "3           3.2  \n",
       "4           2.0  "
      ]
     },
     "execution_count": 58,
     "metadata": {},
     "output_type": "execute_result"
    }
   ],
   "source": [
    "X_train_final.head()"
   ]
  },
  {
   "cell_type": "code",
   "execution_count": 59,
   "metadata": {},
   "outputs": [],
   "source": [
    "from sklearn.preprocessing import LabelEncoder\n",
    "\n",
    "label_encoder = LabelEncoder()\n",
    "cat_cols = ['model', 'year', 'motor_type', 'color', 'type']\n",
    "\n",
    "for col in cat_cols:\n",
    "    X_train_final[col] = label_encoder.fit_transform(X_train_final[col].values)\n",
    "    \n",
    "    X_test[col] = label_encoder.transform(X_test[col])"
   ]
  },
  {
   "cell_type": "code",
   "execution_count": 60,
   "metadata": {},
   "outputs": [
    {
     "data": {
      "text/html": [
       "<div>\n",
       "<style scoped>\n",
       "    .dataframe tbody tr th:only-of-type {\n",
       "        vertical-align: middle;\n",
       "    }\n",
       "\n",
       "    .dataframe tbody tr th {\n",
       "        vertical-align: top;\n",
       "    }\n",
       "\n",
       "    .dataframe thead th {\n",
       "        text-align: right;\n",
       "    }\n",
       "</style>\n",
       "<table border=\"1\" class=\"dataframe\">\n",
       "  <thead>\n",
       "    <tr style=\"text-align: right;\">\n",
       "      <th></th>\n",
       "      <th>model</th>\n",
       "      <th>year</th>\n",
       "      <th>motor_type</th>\n",
       "      <th>running</th>\n",
       "      <th>color</th>\n",
       "      <th>type</th>\n",
       "      <th>status</th>\n",
       "      <th>motor_volume</th>\n",
       "    </tr>\n",
       "  </thead>\n",
       "  <tbody>\n",
       "    <tr>\n",
       "      <th>0</th>\n",
       "      <td>4</td>\n",
       "      <td>30</td>\n",
       "      <td>3</td>\n",
       "      <td>3000.00</td>\n",
       "      <td>15</td>\n",
       "      <td>5</td>\n",
       "      <td>excellent</td>\n",
       "      <td>2.0</td>\n",
       "    </tr>\n",
       "    <tr>\n",
       "      <th>1</th>\n",
       "      <td>2</td>\n",
       "      <td>22</td>\n",
       "      <td>3</td>\n",
       "      <td>132000.00</td>\n",
       "      <td>1</td>\n",
       "      <td>5</td>\n",
       "      <td>excellent</td>\n",
       "      <td>2.0</td>\n",
       "    </tr>\n",
       "    <tr>\n",
       "      <th>2</th>\n",
       "      <td>1</td>\n",
       "      <td>26</td>\n",
       "      <td>3</td>\n",
       "      <td>152887.30</td>\n",
       "      <td>10</td>\n",
       "      <td>5</td>\n",
       "      <td>excellent</td>\n",
       "      <td>2.0</td>\n",
       "    </tr>\n",
       "    <tr>\n",
       "      <th>3</th>\n",
       "      <td>2</td>\n",
       "      <td>10</td>\n",
       "      <td>3</td>\n",
       "      <td>220479.58</td>\n",
       "      <td>6</td>\n",
       "      <td>5</td>\n",
       "      <td>excellent</td>\n",
       "      <td>3.2</td>\n",
       "    </tr>\n",
       "    <tr>\n",
       "      <th>4</th>\n",
       "      <td>2</td>\n",
       "      <td>25</td>\n",
       "      <td>3</td>\n",
       "      <td>130000.00</td>\n",
       "      <td>1</td>\n",
       "      <td>5</td>\n",
       "      <td>good</td>\n",
       "      <td>2.0</td>\n",
       "    </tr>\n",
       "  </tbody>\n",
       "</table>\n",
       "</div>"
      ],
      "text/plain": [
       "   model  year  motor_type    running  color  type     status  motor_volume\n",
       "0      4    30           3    3000.00     15     5  excellent           2.0\n",
       "1      2    22           3  132000.00      1     5  excellent           2.0\n",
       "2      1    26           3  152887.30     10     5  excellent           2.0\n",
       "3      2    10           3  220479.58      6     5  excellent           3.2\n",
       "4      2    25           3  130000.00      1     5       good           2.0"
      ]
     },
     "execution_count": 60,
     "metadata": {},
     "output_type": "execute_result"
    }
   ],
   "source": [
    "X_train_final.head()"
   ]
  },
  {
   "cell_type": "code",
   "execution_count": 61,
   "metadata": {},
   "outputs": [
    {
     "data": {
      "text/html": [
       "<div>\n",
       "<style scoped>\n",
       "    .dataframe tbody tr th:only-of-type {\n",
       "        vertical-align: middle;\n",
       "    }\n",
       "\n",
       "    .dataframe tbody tr th {\n",
       "        vertical-align: top;\n",
       "    }\n",
       "\n",
       "    .dataframe thead th {\n",
       "        text-align: right;\n",
       "    }\n",
       "</style>\n",
       "<table border=\"1\" class=\"dataframe\">\n",
       "  <thead>\n",
       "    <tr style=\"text-align: right;\">\n",
       "      <th></th>\n",
       "      <th>model</th>\n",
       "      <th>year</th>\n",
       "      <th>motor_type</th>\n",
       "      <th>running</th>\n",
       "      <th>color</th>\n",
       "      <th>type</th>\n",
       "      <th>status</th>\n",
       "      <th>motor_volume</th>\n",
       "    </tr>\n",
       "  </thead>\n",
       "  <tbody>\n",
       "    <tr>\n",
       "      <th>0</th>\n",
       "      <td>1</td>\n",
       "      <td>28</td>\n",
       "      <td>3</td>\n",
       "      <td>24000.00</td>\n",
       "      <td>1</td>\n",
       "      <td>5</td>\n",
       "      <td>excellent</td>\n",
       "      <td>2.0</td>\n",
       "    </tr>\n",
       "    <tr>\n",
       "      <th>1</th>\n",
       "      <td>3</td>\n",
       "      <td>25</td>\n",
       "      <td>3</td>\n",
       "      <td>136793.90</td>\n",
       "      <td>16</td>\n",
       "      <td>6</td>\n",
       "      <td>excellent</td>\n",
       "      <td>2.0</td>\n",
       "    </tr>\n",
       "    <tr>\n",
       "      <th>2</th>\n",
       "      <td>0</td>\n",
       "      <td>29</td>\n",
       "      <td>3</td>\n",
       "      <td>48280.20</td>\n",
       "      <td>16</td>\n",
       "      <td>5</td>\n",
       "      <td>excellent</td>\n",
       "      <td>2.0</td>\n",
       "    </tr>\n",
       "    <tr>\n",
       "      <th>3</th>\n",
       "      <td>1</td>\n",
       "      <td>26</td>\n",
       "      <td>3</td>\n",
       "      <td>85295.02</td>\n",
       "      <td>14</td>\n",
       "      <td>5</td>\n",
       "      <td>excellent</td>\n",
       "      <td>2.0</td>\n",
       "    </tr>\n",
       "    <tr>\n",
       "      <th>4</th>\n",
       "      <td>2</td>\n",
       "      <td>11</td>\n",
       "      <td>3</td>\n",
       "      <td>230000.00</td>\n",
       "      <td>1</td>\n",
       "      <td>1</td>\n",
       "      <td>normal</td>\n",
       "      <td>1.8</td>\n",
       "    </tr>\n",
       "  </tbody>\n",
       "</table>\n",
       "</div>"
      ],
      "text/plain": [
       "   model  year  motor_type    running  color  type     status  motor_volume\n",
       "0      1    28           3   24000.00      1     5  excellent           2.0\n",
       "1      3    25           3  136793.90     16     6  excellent           2.0\n",
       "2      0    29           3   48280.20     16     5  excellent           2.0\n",
       "3      1    26           3   85295.02     14     5  excellent           2.0\n",
       "4      2    11           3  230000.00      1     1     normal           1.8"
      ]
     },
     "execution_count": 61,
     "metadata": {},
     "output_type": "execute_result"
    }
   ],
   "source": [
    "X_test.head()"
   ]
  },
  {
   "cell_type": "code",
   "execution_count": null,
   "metadata": {},
   "outputs": [],
   "source": []
  },
  {
   "cell_type": "code",
   "execution_count": 62,
   "metadata": {},
   "outputs": [],
   "source": [
    "# for status- lets apply oridnal encoding\n",
    "from sklearn.preprocessing import OrdinalEncoder\n",
    "\n",
    "\n",
    "# Initialize OrdinalEncoder\n",
    "ordinal_encoder = OrdinalEncoder()\n",
    "\n",
    "# Fit and transform the 'status' column\n",
    "X_train_final['status'] = ordinal_encoder.fit_transform(X_train_final[['status']])\n",
    "X_test['status'] = ordinal_encoder.transform(X_test[['status']])"
   ]
  },
  {
   "cell_type": "code",
   "execution_count": 63,
   "metadata": {},
   "outputs": [
    {
     "data": {
      "text/html": [
       "<div>\n",
       "<style scoped>\n",
       "    .dataframe tbody tr th:only-of-type {\n",
       "        vertical-align: middle;\n",
       "    }\n",
       "\n",
       "    .dataframe tbody tr th {\n",
       "        vertical-align: top;\n",
       "    }\n",
       "\n",
       "    .dataframe thead th {\n",
       "        text-align: right;\n",
       "    }\n",
       "</style>\n",
       "<table border=\"1\" class=\"dataframe\">\n",
       "  <thead>\n",
       "    <tr style=\"text-align: right;\">\n",
       "      <th></th>\n",
       "      <th>model</th>\n",
       "      <th>year</th>\n",
       "      <th>motor_type</th>\n",
       "      <th>running</th>\n",
       "      <th>color</th>\n",
       "      <th>type</th>\n",
       "      <th>status</th>\n",
       "      <th>motor_volume</th>\n",
       "    </tr>\n",
       "  </thead>\n",
       "  <tbody>\n",
       "    <tr>\n",
       "      <th>0</th>\n",
       "      <td>4</td>\n",
       "      <td>30</td>\n",
       "      <td>3</td>\n",
       "      <td>3000.00</td>\n",
       "      <td>15</td>\n",
       "      <td>5</td>\n",
       "      <td>1.0</td>\n",
       "      <td>2.0</td>\n",
       "    </tr>\n",
       "    <tr>\n",
       "      <th>1</th>\n",
       "      <td>2</td>\n",
       "      <td>22</td>\n",
       "      <td>3</td>\n",
       "      <td>132000.00</td>\n",
       "      <td>1</td>\n",
       "      <td>5</td>\n",
       "      <td>1.0</td>\n",
       "      <td>2.0</td>\n",
       "    </tr>\n",
       "    <tr>\n",
       "      <th>2</th>\n",
       "      <td>1</td>\n",
       "      <td>26</td>\n",
       "      <td>3</td>\n",
       "      <td>152887.30</td>\n",
       "      <td>10</td>\n",
       "      <td>5</td>\n",
       "      <td>1.0</td>\n",
       "      <td>2.0</td>\n",
       "    </tr>\n",
       "    <tr>\n",
       "      <th>3</th>\n",
       "      <td>2</td>\n",
       "      <td>10</td>\n",
       "      <td>3</td>\n",
       "      <td>220479.58</td>\n",
       "      <td>6</td>\n",
       "      <td>5</td>\n",
       "      <td>1.0</td>\n",
       "      <td>3.2</td>\n",
       "    </tr>\n",
       "    <tr>\n",
       "      <th>4</th>\n",
       "      <td>2</td>\n",
       "      <td>25</td>\n",
       "      <td>3</td>\n",
       "      <td>130000.00</td>\n",
       "      <td>1</td>\n",
       "      <td>5</td>\n",
       "      <td>2.0</td>\n",
       "      <td>2.0</td>\n",
       "    </tr>\n",
       "  </tbody>\n",
       "</table>\n",
       "</div>"
      ],
      "text/plain": [
       "   model  year  motor_type    running  color  type  status  motor_volume\n",
       "0      4    30           3    3000.00     15     5     1.0           2.0\n",
       "1      2    22           3  132000.00      1     5     1.0           2.0\n",
       "2      1    26           3  152887.30     10     5     1.0           2.0\n",
       "3      2    10           3  220479.58      6     5     1.0           3.2\n",
       "4      2    25           3  130000.00      1     5     2.0           2.0"
      ]
     },
     "execution_count": 63,
     "metadata": {},
     "output_type": "execute_result"
    }
   ],
   "source": [
    "X_train_final.head()"
   ]
  },
  {
   "cell_type": "code",
   "execution_count": 64,
   "metadata": {},
   "outputs": [
    {
     "data": {
      "text/html": [
       "<div>\n",
       "<style scoped>\n",
       "    .dataframe tbody tr th:only-of-type {\n",
       "        vertical-align: middle;\n",
       "    }\n",
       "\n",
       "    .dataframe tbody tr th {\n",
       "        vertical-align: top;\n",
       "    }\n",
       "\n",
       "    .dataframe thead th {\n",
       "        text-align: right;\n",
       "    }\n",
       "</style>\n",
       "<table border=\"1\" class=\"dataframe\">\n",
       "  <thead>\n",
       "    <tr style=\"text-align: right;\">\n",
       "      <th></th>\n",
       "      <th>model</th>\n",
       "      <th>year</th>\n",
       "      <th>motor_type</th>\n",
       "      <th>running</th>\n",
       "      <th>color</th>\n",
       "      <th>type</th>\n",
       "      <th>status</th>\n",
       "      <th>motor_volume</th>\n",
       "    </tr>\n",
       "  </thead>\n",
       "  <tbody>\n",
       "    <tr>\n",
       "      <th>0</th>\n",
       "      <td>1</td>\n",
       "      <td>28</td>\n",
       "      <td>3</td>\n",
       "      <td>24000.00</td>\n",
       "      <td>1</td>\n",
       "      <td>5</td>\n",
       "      <td>1.0</td>\n",
       "      <td>2.0</td>\n",
       "    </tr>\n",
       "    <tr>\n",
       "      <th>1</th>\n",
       "      <td>3</td>\n",
       "      <td>25</td>\n",
       "      <td>3</td>\n",
       "      <td>136793.90</td>\n",
       "      <td>16</td>\n",
       "      <td>6</td>\n",
       "      <td>1.0</td>\n",
       "      <td>2.0</td>\n",
       "    </tr>\n",
       "    <tr>\n",
       "      <th>2</th>\n",
       "      <td>0</td>\n",
       "      <td>29</td>\n",
       "      <td>3</td>\n",
       "      <td>48280.20</td>\n",
       "      <td>16</td>\n",
       "      <td>5</td>\n",
       "      <td>1.0</td>\n",
       "      <td>2.0</td>\n",
       "    </tr>\n",
       "    <tr>\n",
       "      <th>3</th>\n",
       "      <td>1</td>\n",
       "      <td>26</td>\n",
       "      <td>3</td>\n",
       "      <td>85295.02</td>\n",
       "      <td>14</td>\n",
       "      <td>5</td>\n",
       "      <td>1.0</td>\n",
       "      <td>2.0</td>\n",
       "    </tr>\n",
       "    <tr>\n",
       "      <th>4</th>\n",
       "      <td>2</td>\n",
       "      <td>11</td>\n",
       "      <td>3</td>\n",
       "      <td>230000.00</td>\n",
       "      <td>1</td>\n",
       "      <td>1</td>\n",
       "      <td>4.0</td>\n",
       "      <td>1.8</td>\n",
       "    </tr>\n",
       "  </tbody>\n",
       "</table>\n",
       "</div>"
      ],
      "text/plain": [
       "   model  year  motor_type    running  color  type  status  motor_volume\n",
       "0      1    28           3   24000.00      1     5     1.0           2.0\n",
       "1      3    25           3  136793.90     16     6     1.0           2.0\n",
       "2      0    29           3   48280.20     16     5     1.0           2.0\n",
       "3      1    26           3   85295.02     14     5     1.0           2.0\n",
       "4      2    11           3  230000.00      1     1     4.0           1.8"
      ]
     },
     "execution_count": 64,
     "metadata": {},
     "output_type": "execute_result"
    }
   ],
   "source": [
    "X_test.head()"
   ]
  },
  {
   "cell_type": "code",
   "execution_count": 65,
   "metadata": {},
   "outputs": [],
   "source": [
    "# train test split the X_train final data\n",
    "\n",
    "from sklearn.model_selection import train_test_split\n",
    "\n",
    "X_train_1, X_test_1, y_train_1, y_test_1 = train_test_split(X_train_final, y_train_final, test_size=0.2, random_state=30)"
   ]
  },
  {
   "cell_type": "code",
   "execution_count": 66,
   "metadata": {},
   "outputs": [
    {
     "data": {
      "text/plain": [
       "(1306, 8)"
      ]
     },
     "execution_count": 66,
     "metadata": {},
     "output_type": "execute_result"
    }
   ],
   "source": [
    "X_train_1.shape"
   ]
  },
  {
   "cell_type": "code",
   "execution_count": 67,
   "metadata": {},
   "outputs": [
    {
     "data": {
      "text/plain": [
       "(1306,)"
      ]
     },
     "execution_count": 67,
     "metadata": {},
     "output_type": "execute_result"
    }
   ],
   "source": [
    "y_train_1.shape"
   ]
  },
  {
   "cell_type": "code",
   "execution_count": 68,
   "metadata": {},
   "outputs": [
    {
     "data": {
      "text/plain": [
       "(327, 8)"
      ]
     },
     "execution_count": 68,
     "metadata": {},
     "output_type": "execute_result"
    }
   ],
   "source": [
    "X_test_1.shape"
   ]
  },
  {
   "cell_type": "code",
   "execution_count": 69,
   "metadata": {},
   "outputs": [
    {
     "data": {
      "text/plain": [
       "(327,)"
      ]
     },
     "execution_count": 69,
     "metadata": {},
     "output_type": "execute_result"
    }
   ],
   "source": [
    "y_test_1.shape"
   ]
  },
  {
   "cell_type": "code",
   "execution_count": 70,
   "metadata": {},
   "outputs": [],
   "source": [
    "from sklearn.preprocessing import StandardScaler\n",
    "from sklearn.model_selection import GridSearchCV\n",
    "from sklearn.linear_model import LinearRegression, Ridge, Lasso, ElasticNet\n",
    "from sklearn.tree import DecisionTreeRegressor\n",
    "from sklearn.ensemble import RandomForestRegressor\n",
    "from sklearn.metrics import mean_squared_error, r2_score"
   ]
  },
  {
   "cell_type": "code",
   "execution_count": 71,
   "metadata": {},
   "outputs": [],
   "source": [
    "# Initialize StandardScaler\n",
    "scaler = StandardScaler()\n",
    "\n",
    "# Standardize the training and testing data\n",
    "X_train_scaled = scaler.fit_transform(X_train_1)\n",
    "X_test_scaled = scaler.transform(X_test_1)\n"
   ]
  },
  {
   "cell_type": "code",
   "execution_count": 72,
   "metadata": {},
   "outputs": [],
   "source": [
    "\n",
    "# Define the parameter grid for each model\n",
    "param_grid_linear = {}\n",
    "param_grid_ridge = {'alpha': [0.1, 1, 10]}\n",
    "param_grid_lasso = {'alpha': [0.1, 1, 10]}\n",
    "param_grid_elasticnet = {'alpha': [0.1, 1, 10], 'l1_ratio': [0.1, 0.5, 0.9]}\n",
    "param_grid_dt = {'max_depth': [None, 10, 20, 30]}\n",
    "param_grid_rf = {'n_estimators': [100, 200, 300], 'max_depth': [None, 10, 20, 30]}\n"
   ]
  },
  {
   "cell_type": "code",
   "execution_count": 73,
   "metadata": {},
   "outputs": [],
   "source": [
    "\n",
    "# Initialize models\n",
    "linear_reg = LinearRegression()\n",
    "ridge_reg = Ridge()\n",
    "lasso_reg = Lasso()\n",
    "elasticnet_reg = ElasticNet()\n",
    "dt_reg = DecisionTreeRegressor()\n",
    "rf_reg = RandomForestRegressor()\n"
   ]
  },
  {
   "cell_type": "code",
   "execution_count": 74,
   "metadata": {},
   "outputs": [],
   "source": [
    "\n",
    "# Initialize GridSearchCV for each model\n",
    "grid_linear = GridSearchCV(linear_reg, param_grid_linear, scoring='neg_mean_squared_error', cv=5)\n",
    "grid_ridge = GridSearchCV(ridge_reg, param_grid_ridge, scoring='neg_mean_squared_error', cv=5)\n",
    "grid_lasso = GridSearchCV(lasso_reg, param_grid_lasso, scoring='neg_mean_squared_error', cv=5)\n",
    "grid_elasticnet = GridSearchCV(elasticnet_reg, param_grid_elasticnet, scoring='neg_mean_squared_error', cv=5)\n",
    "grid_dt = GridSearchCV(dt_reg, param_grid_dt, scoring='neg_mean_squared_error', cv=5)\n",
    "grid_rf = GridSearchCV(rf_reg, param_grid_rf, scoring='neg_mean_squared_error', cv=5)\n"
   ]
  },
  {
   "cell_type": "code",
   "execution_count": 75,
   "metadata": {},
   "outputs": [
    {
     "data": {
      "text/html": [
       "<style>#sk-container-id-1 {color: black;background-color: white;}#sk-container-id-1 pre{padding: 0;}#sk-container-id-1 div.sk-toggleable {background-color: white;}#sk-container-id-1 label.sk-toggleable__label {cursor: pointer;display: block;width: 100%;margin-bottom: 0;padding: 0.3em;box-sizing: border-box;text-align: center;}#sk-container-id-1 label.sk-toggleable__label-arrow:before {content: \"▸\";float: left;margin-right: 0.25em;color: #696969;}#sk-container-id-1 label.sk-toggleable__label-arrow:hover:before {color: black;}#sk-container-id-1 div.sk-estimator:hover label.sk-toggleable__label-arrow:before {color: black;}#sk-container-id-1 div.sk-toggleable__content {max-height: 0;max-width: 0;overflow: hidden;text-align: left;background-color: #f0f8ff;}#sk-container-id-1 div.sk-toggleable__content pre {margin: 0.2em;color: black;border-radius: 0.25em;background-color: #f0f8ff;}#sk-container-id-1 input.sk-toggleable__control:checked~div.sk-toggleable__content {max-height: 200px;max-width: 100%;overflow: auto;}#sk-container-id-1 input.sk-toggleable__control:checked~label.sk-toggleable__label-arrow:before {content: \"▾\";}#sk-container-id-1 div.sk-estimator input.sk-toggleable__control:checked~label.sk-toggleable__label {background-color: #d4ebff;}#sk-container-id-1 div.sk-label input.sk-toggleable__control:checked~label.sk-toggleable__label {background-color: #d4ebff;}#sk-container-id-1 input.sk-hidden--visually {border: 0;clip: rect(1px 1px 1px 1px);clip: rect(1px, 1px, 1px, 1px);height: 1px;margin: -1px;overflow: hidden;padding: 0;position: absolute;width: 1px;}#sk-container-id-1 div.sk-estimator {font-family: monospace;background-color: #f0f8ff;border: 1px dotted black;border-radius: 0.25em;box-sizing: border-box;margin-bottom: 0.5em;}#sk-container-id-1 div.sk-estimator:hover {background-color: #d4ebff;}#sk-container-id-1 div.sk-parallel-item::after {content: \"\";width: 100%;border-bottom: 1px solid gray;flex-grow: 1;}#sk-container-id-1 div.sk-label:hover label.sk-toggleable__label {background-color: #d4ebff;}#sk-container-id-1 div.sk-serial::before {content: \"\";position: absolute;border-left: 1px solid gray;box-sizing: border-box;top: 0;bottom: 0;left: 50%;z-index: 0;}#sk-container-id-1 div.sk-serial {display: flex;flex-direction: column;align-items: center;background-color: white;padding-right: 0.2em;padding-left: 0.2em;position: relative;}#sk-container-id-1 div.sk-item {position: relative;z-index: 1;}#sk-container-id-1 div.sk-parallel {display: flex;align-items: stretch;justify-content: center;background-color: white;position: relative;}#sk-container-id-1 div.sk-item::before, #sk-container-id-1 div.sk-parallel-item::before {content: \"\";position: absolute;border-left: 1px solid gray;box-sizing: border-box;top: 0;bottom: 0;left: 50%;z-index: -1;}#sk-container-id-1 div.sk-parallel-item {display: flex;flex-direction: column;z-index: 1;position: relative;background-color: white;}#sk-container-id-1 div.sk-parallel-item:first-child::after {align-self: flex-end;width: 50%;}#sk-container-id-1 div.sk-parallel-item:last-child::after {align-self: flex-start;width: 50%;}#sk-container-id-1 div.sk-parallel-item:only-child::after {width: 0;}#sk-container-id-1 div.sk-dashed-wrapped {border: 1px dashed gray;margin: 0 0.4em 0.5em 0.4em;box-sizing: border-box;padding-bottom: 0.4em;background-color: white;}#sk-container-id-1 div.sk-label label {font-family: monospace;font-weight: bold;display: inline-block;line-height: 1.2em;}#sk-container-id-1 div.sk-label-container {text-align: center;}#sk-container-id-1 div.sk-container {/* jupyter's `normalize.less` sets `[hidden] { display: none; }` but bootstrap.min.css set `[hidden] { display: none !important; }` so we also need the `!important` here to be able to override the default hidden behavior on the sphinx rendered scikit-learn.org. See: https://github.com/scikit-learn/scikit-learn/issues/21755 */display: inline-block !important;position: relative;}#sk-container-id-1 div.sk-text-repr-fallback {display: none;}</style><div id=\"sk-container-id-1\" class=\"sk-top-container\"><div class=\"sk-text-repr-fallback\"><pre>GridSearchCV(cv=5, estimator=RandomForestRegressor(),\n",
       "             param_grid={&#x27;max_depth&#x27;: [None, 10, 20, 30],\n",
       "                         &#x27;n_estimators&#x27;: [100, 200, 300]},\n",
       "             scoring=&#x27;neg_mean_squared_error&#x27;)</pre><b>In a Jupyter environment, please rerun this cell to show the HTML representation or trust the notebook. <br />On GitHub, the HTML representation is unable to render, please try loading this page with nbviewer.org.</b></div><div class=\"sk-container\" hidden><div class=\"sk-item sk-dashed-wrapped\"><div class=\"sk-label-container\"><div class=\"sk-label sk-toggleable\"><input class=\"sk-toggleable__control sk-hidden--visually\" id=\"sk-estimator-id-1\" type=\"checkbox\" ><label for=\"sk-estimator-id-1\" class=\"sk-toggleable__label sk-toggleable__label-arrow\">GridSearchCV</label><div class=\"sk-toggleable__content\"><pre>GridSearchCV(cv=5, estimator=RandomForestRegressor(),\n",
       "             param_grid={&#x27;max_depth&#x27;: [None, 10, 20, 30],\n",
       "                         &#x27;n_estimators&#x27;: [100, 200, 300]},\n",
       "             scoring=&#x27;neg_mean_squared_error&#x27;)</pre></div></div></div><div class=\"sk-parallel\"><div class=\"sk-parallel-item\"><div class=\"sk-item\"><div class=\"sk-label-container\"><div class=\"sk-label sk-toggleable\"><input class=\"sk-toggleable__control sk-hidden--visually\" id=\"sk-estimator-id-2\" type=\"checkbox\" ><label for=\"sk-estimator-id-2\" class=\"sk-toggleable__label sk-toggleable__label-arrow\">estimator: RandomForestRegressor</label><div class=\"sk-toggleable__content\"><pre>RandomForestRegressor()</pre></div></div></div><div class=\"sk-serial\"><div class=\"sk-item\"><div class=\"sk-estimator sk-toggleable\"><input class=\"sk-toggleable__control sk-hidden--visually\" id=\"sk-estimator-id-3\" type=\"checkbox\" ><label for=\"sk-estimator-id-3\" class=\"sk-toggleable__label sk-toggleable__label-arrow\">RandomForestRegressor</label><div class=\"sk-toggleable__content\"><pre>RandomForestRegressor()</pre></div></div></div></div></div></div></div></div></div></div>"
      ],
      "text/plain": [
       "GridSearchCV(cv=5, estimator=RandomForestRegressor(),\n",
       "             param_grid={'max_depth': [None, 10, 20, 30],\n",
       "                         'n_estimators': [100, 200, 300]},\n",
       "             scoring='neg_mean_squared_error')"
      ]
     },
     "execution_count": 75,
     "metadata": {},
     "output_type": "execute_result"
    }
   ],
   "source": [
    "\n",
    "# Fit GridSearchCV to standardized training data for each model\n",
    "grid_linear.fit(X_train_scaled, y_train_1)\n",
    "grid_ridge.fit(X_train_scaled, y_train_1)\n",
    "grid_lasso.fit(X_train_scaled, y_train_1)\n",
    "grid_elasticnet.fit(X_train_scaled, y_train_1)\n",
    "grid_dt.fit(X_train_scaled, y_train_1)\n",
    "grid_rf.fit(X_train_scaled, y_train_1)\n"
   ]
  },
  {
   "cell_type": "code",
   "execution_count": 76,
   "metadata": {},
   "outputs": [],
   "source": [
    "\n",
    "# Get best parameters and best estimator for each model\n",
    "best_params_linear = grid_linear.best_params_\n",
    "best_params_ridge = grid_ridge.best_params_\n",
    "best_params_lasso = grid_lasso.best_params_\n",
    "best_params_elasticnet = grid_elasticnet.best_params_\n",
    "best_params_dt = grid_dt.best_params_\n",
    "best_params_rf = grid_rf.best_params_\n",
    "\n",
    "best_estimator_linear = grid_linear.best_estimator_\n",
    "best_estimator_ridge = grid_ridge.best_estimator_\n",
    "best_estimator_lasso = grid_lasso.best_estimator_\n",
    "best_estimator_elasticnet = grid_elasticnet.best_estimator_\n",
    "best_estimator_dt = grid_dt.best_estimator_\n",
    "best_estimator_rf = grid_rf.best_estimator_"
   ]
  },
  {
   "cell_type": "code",
   "execution_count": 77,
   "metadata": {},
   "outputs": [],
   "source": [
    "\n",
    "\n",
    "# Make predictions on standardized test data using best estimator for each model\n",
    "y_pred_linear = best_estimator_linear.predict(X_test_scaled)\n",
    "y_pred_ridge = best_estimator_ridge.predict(X_test_scaled)\n",
    "y_pred_lasso = best_estimator_lasso.predict(X_test_scaled)\n",
    "y_pred_elasticnet = best_estimator_elasticnet.predict(X_test_scaled)\n",
    "y_pred_dt = best_estimator_dt.predict(X_test_scaled)\n",
    "y_pred_rf = best_estimator_rf.predict(X_test_scaled)"
   ]
  },
  {
   "cell_type": "code",
   "execution_count": 78,
   "metadata": {},
   "outputs": [],
   "source": [
    "# Evaluate performance of each model\n",
    "mse_linear = mean_squared_error(y_test_1, y_pred_linear)\n",
    "r2_linear = r2_score(y_test_1, y_pred_linear)\n",
    "\n",
    "mse_ridge = mean_squared_error(y_test_1, y_pred_ridge)\n",
    "r2_ridge = r2_score(y_test_1, y_pred_ridge)\n",
    "\n",
    "mse_lasso = mean_squared_error(y_test_1, y_pred_lasso)\n",
    "r2_lasso = r2_score(y_test_1, y_pred_lasso)\n",
    "\n",
    "mse_elasticnet = mean_squared_error(y_test_1, y_pred_elasticnet)\n",
    "r2_elasticnet = r2_score(y_test_1, y_pred_elasticnet)\n",
    "\n",
    "mse_dt = mean_squared_error(y_test_1, y_pred_dt)\n",
    "r2_dt = r2_score(y_test_1, y_pred_dt)\n",
    "\n",
    "mse_rf = mean_squared_error(y_test_1, y_pred_rf)\n",
    "r2_rf = r2_score(y_test_1, y_pred_rf)"
   ]
  },
  {
   "cell_type": "code",
   "execution_count": 79,
   "metadata": {},
   "outputs": [
    {
     "name": "stdout",
     "output_type": "stream",
     "text": [
      "Linear Regression:\n",
      "Best Parameters: {}\n",
      "Mean Squared Error: 24816791.724975415\n",
      "R-squared: 0.4462016735614043\n",
      "\n",
      "Ridge Regression:\n",
      "Best Parameters: {'alpha': 10}\n",
      "Mean Squared Error: 24798530.889605\n",
      "R-squared: 0.44660917265232536\n",
      "\n",
      "Lasso Regression:\n",
      "Best Parameters: {'alpha': 10}\n",
      "Mean Squared Error: 24775121.726068996\n",
      "R-squared: 0.4471315590966828\n",
      "\n",
      "ElasticNet Regression:\n",
      "Best Parameters: {'alpha': 0.1, 'l1_ratio': 0.9}\n",
      "Mean Squared Error: 24793094.669966746\n",
      "R-squared: 0.4467304844387634\n",
      "\n",
      "Decision Tree:\n",
      "Best Parameters: {'max_depth': 10}\n",
      "Mean Squared Error: 15363126.750997467\n",
      "R-squared: 0.6571646336136205\n",
      "\n",
      "Random Forest:\n",
      "Best Parameters: {'max_depth': 10, 'n_estimators': 300}\n",
      "Mean Squared Error: 8715034.477319695\n",
      "R-squared: 0.8055199253037576\n"
     ]
    }
   ],
   "source": [
    "\n",
    "print(\"Linear Regression:\")\n",
    "print(\"Best Parameters:\", best_params_linear)\n",
    "print(\"Mean Squared Error:\", mse_linear)\n",
    "print(\"R-squared:\", r2_linear)\n",
    "print()\n",
    "\n",
    "print(\"Ridge Regression:\")\n",
    "print(\"Best Parameters:\", best_params_ridge)\n",
    "print(\"Mean Squared Error:\", mse_ridge)\n",
    "print(\"R-squared:\", r2_ridge)\n",
    "print()\n",
    "\n",
    "print(\"Lasso Regression:\")\n",
    "print(\"Best Parameters:\", best_params_lasso)\n",
    "print(\"Mean Squared Error:\", mse_lasso)\n",
    "print(\"R-squared:\", r2_lasso)\n",
    "print()\n",
    "\n",
    "print(\"ElasticNet Regression:\")\n",
    "print(\"Best Parameters:\", best_params_elasticnet)\n",
    "print(\"Mean Squared Error:\", mse_elasticnet)\n",
    "print(\"R-squared:\", r2_elasticnet)\n",
    "print()\n",
    "\n",
    "print(\"Decision Tree:\")\n",
    "print(\"Best Parameters:\", best_params_dt)\n",
    "print(\"Mean Squared Error:\", mse_dt)\n",
    "print(\"R-squared:\", r2_dt)\n",
    "print()\n",
    "\n",
    "print(\"Random Forest:\")\n",
    "print(\"Best Parameters:\", best_params_rf)\n",
    "print(\"Mean Squared Error:\", mse_rf)\n",
    "print(\"R-squared:\", r2_rf)\n"
   ]
  },
  {
   "cell_type": "markdown",
   "metadata": {},
   "source": [
    "The Random Forest model has the lowest Mean Squared Error (8688626.12) and the highest R-squared (0.806).\n",
    "The Decision Tree model also performs well but has a slightly higher MSE and lower R-squared compared to the Random Forest model.\n",
    "Among the linear models (Linear Regression, Ridge Regression, Lasso Regression, ElasticNet Regression), Lasso Regression has the lowest MSE and slightly higher R-squared compared to the other linear models.\n",
    "Therefore, in this scenario, the Random Forest model seems to be the best performing model based on the provided evaluation metrics. "
   ]
  },
  {
   "cell_type": "code",
   "execution_count": 80,
   "metadata": {},
   "outputs": [
    {
     "name": "stderr",
     "output_type": "stream",
     "text": [
      "C:\\ProgramData\\anaconda3\\Lib\\site-packages\\sklearn\\base.py:432: UserWarning: X has feature names, but RandomForestRegressor was fitted without feature names\n",
      "  warnings.warn(\n"
     ]
    }
   ],
   "source": [
    "# lest predict for final submission\n",
    "y_pred1 = best_estimator_rf.predict(X_test)"
   ]
  },
  {
   "cell_type": "code",
   "execution_count": 81,
   "metadata": {},
   "outputs": [],
   "source": [
    "# Remove feature names from test data\n",
    "X_test_scaled_without_names = X_test.values\n",
    "\n",
    "# Make predictions on the test data without feature names\n",
    "y_pred_rf1 = best_estimator_rf.predict(X_test_scaled_without_names)"
   ]
  },
  {
   "cell_type": "code",
   "execution_count": 82,
   "metadata": {},
   "outputs": [
    {
     "data": {
      "text/plain": [
       "array([26236.90470343, 25608.88642857, 37729.49178909, 26297.73365079,\n",
       "       25297.97414787, 37564.25894086, 25405.7197619 , 22041.2226801 ,\n",
       "       25608.88642857, 25608.88642857, 25297.97414787, 25405.7197619 ,\n",
       "       37564.25894086, 37729.49178909, 25608.88642857, 37837.4741965 ,\n",
       "       25608.88642857, 25608.88642857, 26297.73365079, 26236.90470343,\n",
       "       25608.88642857, 25405.7197619 , 37729.49178909, 26236.90470343,\n",
       "       25443.0574812 , 25443.0574812 , 25443.0574812 , 25608.88642857,\n",
       "       25405.7197619 , 37564.25894086, 25608.88642857, 37564.25894086,\n",
       "       37729.49178909, 25443.0574812 , 37729.49178909, 25608.88642857,\n",
       "       25405.7197619 , 27025.68503968, 25608.88642857, 25608.88642857,\n",
       "       26297.73365079, 37729.49178909, 25443.0574812 , 25443.0574812 ,\n",
       "       25608.88642857, 25443.0574812 , 41843.01929012, 37564.25894086,\n",
       "       25608.88642857, 25608.88642857, 26236.90470343, 25405.7197619 ,\n",
       "       26297.73365079, 26297.73365079, 26236.90470343, 25443.0574812 ,\n",
       "       25608.88642857, 37729.49178909, 25608.88642857, 25608.88642857,\n",
       "       25405.7197619 , 25443.0574812 , 25297.97414787, 25608.88642857,\n",
       "       25405.7197619 , 25608.88642857, 26304.96720343, 25443.0574812 ,\n",
       "       25608.88642857, 25443.0574812 , 26297.73365079, 25608.88642857,\n",
       "       37729.49178909, 37729.49178909, 26236.90470343, 37729.49178909,\n",
       "       26297.73365079, 25405.7197619 , 41945.85262346, 25608.88642857,\n",
       "       26297.73365079, 41843.01929012, 27025.68503968, 26297.73365079,\n",
       "       25608.88642857, 26297.73365079, 26297.73365079, 25608.88642857,\n",
       "       26297.73365079, 25405.7197619 , 25608.88642857, 37564.25894086,\n",
       "       26297.73365079, 25608.88642857, 37729.49178909, 25608.88642857,\n",
       "       26236.90470343, 37564.25894086, 25608.88642857, 33869.47481067,\n",
       "       25608.88642857, 25443.0574812 , 25608.88642857, 25608.88642857,\n",
       "       25405.7197619 , 25405.7197619 , 25443.0574812 , 26297.73365079,\n",
       "       37564.25894086, 25608.88642857, 25405.7197619 , 25608.88642857,\n",
       "       26297.73365079, 25297.97414787, 26236.90470343, 37729.49178909,\n",
       "       25608.88642857, 25443.0574812 , 26297.73365079, 25608.88642857,\n",
       "       25443.0574812 , 26297.73365079, 26297.73365079, 25608.88642857,\n",
       "       37564.25894086, 25405.7197619 , 25608.88642857, 37729.49178909,\n",
       "       25405.7197619 , 37837.4741965 , 41904.66280864, 25608.88642857,\n",
       "       25405.7197619 , 25405.7197619 , 37564.25894086, 25608.88642857,\n",
       "       26297.73365079, 37729.49178909, 25608.88642857, 25608.88642857,\n",
       "       25608.88642857, 25405.7197619 , 26297.73365079, 26297.73365079,\n",
       "       37837.4741965 , 37729.49178909, 25405.7197619 , 25443.0574812 ,\n",
       "       25297.97414787, 26297.73365079, 25608.88642857, 37729.49178909,\n",
       "       25405.7197619 , 25608.88642857, 26297.73365079, 25608.88642857,\n",
       "       37729.49178909, 25608.88642857, 26304.96720343, 26297.73365079,\n",
       "       26194.15031746, 25443.0574812 , 37729.49178909, 41945.85262346,\n",
       "       25405.7197619 , 25405.7197619 , 25405.7197619 , 25608.88642857,\n",
       "       25297.97414787, 25443.0574812 , 25608.88642857, 26297.73365079,\n",
       "       25608.88642857, 37729.49178909, 26236.90470343, 25405.7197619 ,\n",
       "       25608.88642857, 25443.0574812 , 37729.49178909, 25405.7197619 ,\n",
       "       37729.49178909, 25443.0574812 , 25608.88642857, 26236.90470343,\n",
       "       25443.0574812 , 37729.49178909, 41843.01929012, 25297.97414787,\n",
       "       25443.0574812 , 37837.4741965 , 25608.88642857, 25608.88642857,\n",
       "       25443.0574812 , 26297.73365079, 26297.73365079, 26297.73365079,\n",
       "       25608.88642857, 25608.88642857, 25405.7197619 , 25608.88642857,\n",
       "       37564.25894086, 26297.73365079, 25608.88642857, 25443.0574812 ,\n",
       "       25297.97414787, 26236.90470343, 25608.88642857, 25608.88642857,\n",
       "       25608.88642857, 37729.49178909, 26191.40470343, 26297.73365079,\n",
       "       37564.25894086, 26297.73365079, 37729.49178909, 41945.85262346,\n",
       "       26236.90470343, 25608.88642857, 37729.49178909, 25297.97414787,\n",
       "       26236.90470343, 25608.88642857, 26304.96720343, 25356.07867749,\n",
       "       26236.90470343, 25405.7197619 , 25608.88642857, 25608.88642857,\n",
       "       25608.88642857, 25443.0574812 , 37652.43579271, 25608.88642857,\n",
       "       26297.73365079, 25608.88642857, 26297.73365079, 41945.85262346,\n",
       "       26297.73365079, 25443.0574812 , 26297.73365079, 25405.7197619 ,\n",
       "       26236.90470343, 25297.97414787, 26236.90470343, 25405.7197619 ,\n",
       "       37729.49178909, 25405.7197619 , 25608.88642857, 25608.88642857,\n",
       "       25608.88642857, 26236.90470343, 37837.4741965 , 37564.25894086,\n",
       "       25443.0574812 , 26297.73365079, 25608.88642857, 41005.10903371,\n",
       "       25608.88642857, 41945.85262346, 25297.97414787, 25297.97414787,\n",
       "       25405.7197619 , 26297.73365079, 37729.49178909, 26236.90470343,\n",
       "       26523.26837302, 25443.0574812 , 25443.0574812 , 37729.49178909,\n",
       "       25405.7197619 , 26297.73365079, 37729.49178909, 25608.88642857,\n",
       "       37729.49178909, 25608.88642857, 25405.7197619 , 25443.0574812 ,\n",
       "       26236.90470343, 26297.73365079, 25405.7197619 , 25608.88642857,\n",
       "       25608.88642857, 26191.40470343, 26236.90470343, 26297.73365079,\n",
       "       25405.7197619 , 22215.86156899, 37729.49178909, 25608.88642857,\n",
       "       25443.0574812 , 25443.0574812 , 25443.0574812 , 25405.7197619 ,\n",
       "       26297.73365079, 25405.7197619 , 26194.15031746, 25443.0574812 ,\n",
       "       26297.73365079, 25608.88642857, 25608.88642857, 25608.88642857,\n",
       "       25608.88642857, 37564.25894086, 25608.88642857, 37729.49178909,\n",
       "       25608.88642857, 25405.7197619 , 25405.7197619 , 25297.97414787,\n",
       "       37729.49178909, 25608.88642857, 26194.15031746, 25405.7197619 ,\n",
       "       37564.25894086, 25443.0574812 , 26194.15031746, 25443.0574812 ,\n",
       "       25608.88642857, 25405.7197619 , 26297.73365079, 25443.0574812 ,\n",
       "       26297.73365079, 26194.15031746, 25405.7197619 , 25608.88642857,\n",
       "       37837.4741965 , 25405.7197619 , 25608.88642857, 25608.88642857,\n",
       "       26297.73365079, 25405.7197619 , 25405.7197619 , 25297.97414787,\n",
       "       25443.0574812 , 25443.0574812 , 25443.0574812 , 25297.97414787,\n",
       "       37729.49178909, 26194.15031746, 25443.0574812 , 25608.88642857,\n",
       "       25608.88642857, 26236.90470343, 26236.90470343, 25443.0574812 ,\n",
       "       26297.73365079, 25297.97414787, 37729.49178909, 25297.97414787,\n",
       "       37729.49178909, 37729.49178909, 25608.88642857, 25443.0574812 ,\n",
       "       25443.0574812 , 25443.0574812 , 25608.88642857, 37729.49178909,\n",
       "       25608.88642857, 42027.30169753, 41945.85262346, 37564.25894086,\n",
       "       25608.88642857, 26191.40470343, 37564.25894086, 25443.0574812 ,\n",
       "       37837.4741965 , 25608.88642857, 25608.88642857, 25297.97414787,\n",
       "       25608.88642857, 25443.0574812 , 36874.50931046, 26297.73365079,\n",
       "       37729.49178909, 37729.49178909, 37564.25894086, 26297.73365079,\n",
       "       25608.88642857, 25443.0574812 , 25608.88642857, 37564.25894086,\n",
       "       25297.97414787, 37564.25894086, 25297.97414787, 25608.88642857,\n",
       "       25405.7197619 , 26297.73365079, 37729.49178909, 41843.01929012,\n",
       "       26194.15031746, 26236.90470343, 25297.97414787, 25608.88642857,\n",
       "       25608.88642857, 37837.4741965 , 37729.49178909, 25767.96025898,\n",
       "       25405.7197619 , 26297.73365079, 26194.15031746, 25443.0574812 ,\n",
       "       25443.0574812 , 25443.0574812 , 25443.0574812 , 25405.7197619 ,\n",
       "       26194.15031746, 26194.15031746, 25443.0574812 , 37729.49178909,\n",
       "       25405.7197619 , 26194.15031746, 37729.49178909])"
      ]
     },
     "execution_count": 82,
     "metadata": {},
     "output_type": "execute_result"
    }
   ],
   "source": [
    "y_pred_rf1"
   ]
  },
  {
   "cell_type": "code",
   "execution_count": 83,
   "metadata": {},
   "outputs": [
    {
     "name": "stdout",
     "output_type": "stream",
     "text": [
      "      Id         price\n",
      "0      0  26236.904703\n",
      "1      1  25608.886429\n",
      "2      2  37729.491789\n",
      "3      3  26297.733651\n",
      "4      4  25297.974148\n",
      "..   ...           ...\n",
      "406  406  25443.057481\n",
      "407  407  37729.491789\n",
      "408  408  25405.719762\n",
      "409  409  26194.150317\n",
      "410  410  37729.491789\n",
      "\n",
      "[411 rows x 2 columns]\n"
     ]
    }
   ],
   "source": [
    "# Create a range of Id values\n",
    "ids = range(len(y_pred_rf1))\n",
    "\n",
    "# Create the DataFrame\n",
    "result = pd.DataFrame(data={'Id': ids, 'price': y_pred_rf1})\n",
    "\n",
    "# Display the DataFrame\n",
    "print(result)"
   ]
  },
  {
   "cell_type": "code",
   "execution_count": 84,
   "metadata": {},
   "outputs": [
    {
     "data": {
      "text/html": [
       "<div>\n",
       "<style scoped>\n",
       "    .dataframe tbody tr th:only-of-type {\n",
       "        vertical-align: middle;\n",
       "    }\n",
       "\n",
       "    .dataframe tbody tr th {\n",
       "        vertical-align: top;\n",
       "    }\n",
       "\n",
       "    .dataframe thead th {\n",
       "        text-align: right;\n",
       "    }\n",
       "</style>\n",
       "<table border=\"1\" class=\"dataframe\">\n",
       "  <thead>\n",
       "    <tr style=\"text-align: right;\">\n",
       "      <th></th>\n",
       "      <th>Id</th>\n",
       "      <th>price</th>\n",
       "    </tr>\n",
       "  </thead>\n",
       "  <tbody>\n",
       "    <tr>\n",
       "      <th>0</th>\n",
       "      <td>0</td>\n",
       "      <td>26236.904703</td>\n",
       "    </tr>\n",
       "    <tr>\n",
       "      <th>1</th>\n",
       "      <td>1</td>\n",
       "      <td>25608.886429</td>\n",
       "    </tr>\n",
       "    <tr>\n",
       "      <th>2</th>\n",
       "      <td>2</td>\n",
       "      <td>37729.491789</td>\n",
       "    </tr>\n",
       "    <tr>\n",
       "      <th>3</th>\n",
       "      <td>3</td>\n",
       "      <td>26297.733651</td>\n",
       "    </tr>\n",
       "    <tr>\n",
       "      <th>4</th>\n",
       "      <td>4</td>\n",
       "      <td>25297.974148</td>\n",
       "    </tr>\n",
       "  </tbody>\n",
       "</table>\n",
       "</div>"
      ],
      "text/plain": [
       "   Id         price\n",
       "0   0  26236.904703\n",
       "1   1  25608.886429\n",
       "2   2  37729.491789\n",
       "3   3  26297.733651\n",
       "4   4  25297.974148"
      ]
     },
     "execution_count": 84,
     "metadata": {},
     "output_type": "execute_result"
    }
   ],
   "source": [
    "result.head()"
   ]
  },
  {
   "cell_type": "code",
   "execution_count": 85,
   "metadata": {},
   "outputs": [],
   "source": [
    "result.to_csv('submission.csv', index=False)"
   ]
  },
  {
   "cell_type": "code",
   "execution_count": null,
   "metadata": {},
   "outputs": [],
   "source": []
  }
 ],
 "metadata": {
  "kaggle": {
   "accelerator": "none",
   "dataSources": [
    {
     "databundleVersionId": 7270400,
     "sourceId": 65472,
     "sourceType": "competition"
    }
   ],
   "dockerImageVersionId": 30646,
   "isGpuEnabled": false,
   "isInternetEnabled": true,
   "language": "python",
   "sourceType": "notebook"
  },
  "kernelspec": {
   "display_name": "Python 3 (ipykernel)",
   "language": "python",
   "name": "python3"
  },
  "language_info": {
   "codemirror_mode": {
    "name": "ipython",
    "version": 3
   },
   "file_extension": ".py",
   "mimetype": "text/x-python",
   "name": "python",
   "nbconvert_exporter": "python",
   "pygments_lexer": "ipython3",
   "version": "3.11.7"
  }
 },
 "nbformat": 4,
 "nbformat_minor": 4
}
